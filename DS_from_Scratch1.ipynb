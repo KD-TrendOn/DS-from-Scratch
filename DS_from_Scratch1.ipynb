{
  "nbformat": 4,
  "nbformat_minor": 0,
  "metadata": {
    "colab": {
      "provenance": [],
      "toc_visible": true
    },
    "kernelspec": {
      "name": "python3",
      "display_name": "Python 3"
    },
    "language_info": {
      "name": "python"
    }
  },
  "cells": [
    {
      "cell_type": "markdown",
      "source": [
        "# Введение"
      ],
      "metadata": {
        "id": "L3iC-McJyHZj"
      }
    },
    {
      "cell_type": "markdown",
      "source": [
        "Приветствую всех кто интересуется или обучается по направлению Data Science, в этой серии ноутбуков я хочу представить вам интерактивный учебник идущий паралелльно с книгой \"Data Science Наука о данных с нуля 2-е издание\".\n",
        "https://vk.com/doc7608079_626860450?hash=cJZxPnX3GfU5gTDEiHDHnm1rTlu89f8g0FIcfKbvwA0&dl=kU2LarwqCOfcRdqHzJy3vMNnZZrRNqKpGAAlQwJwGNz\n",
        "\n",
        "Здесь вы сможете попробовать вручную написать различные алгоритмы машинного обучения и получить нужную практику в данном направлении даже не покупая каких то курсов. Полученный здесь навык будет очень полезен для вас, так как реализацию алгоритмов машинного обучения с нуля как скилл требуют многие компании. Прошу вас для начала выполнить следующие действия(для сохранения прогресса) :\n",
        "Нажмите Файл -> Сохранить копию на Диске.\n",
        "Нажмите Подключиться, и начнем работу!"
      ],
      "metadata": {
        "id": "uoTn_pQ3VF_b"
      }
    },
    {
      "cell_type": "markdown",
      "source": [
        "Для начала проверим работоспособность интерпретатора и посмотрим на формат работы. Работа будет выполняться так. Вам будет доступна ячейка с предварительно названной функцией\\классом в теле которой вы должны будете написать имплементацию того или иного алгоритма. Далее, для проверки будет доступна ячейка проверки, где на тестовых данных вы сможете проверить работу своей функции. И после завершения, либо при затруднениях вы сможете посмотреть скрытый код автора книги, как он написал решение данной задачи.\n"
      ],
      "metadata": {
        "id": "hcfktvH-WWZc"
      }
    },
    {
      "cell_type": "markdown",
      "source": [
        "Сейчас ваша задача написать код для функции add(a,b) которая должна возвращать сумму двух аргументов."
      ],
      "metadata": {
        "id": "HWqIxPeSW9xb"
      }
    },
    {
      "cell_type": "code",
      "source": [
        "def add(a, b):\n",
        "  # Ваш код\n",
        "  return # Что возвращает"
      ],
      "metadata": {
        "id": "sLKOHkc_58ws"
      },
      "execution_count": null,
      "outputs": []
    },
    {
      "cell_type": "code",
      "source": [
        "# @title TrendOn solution\n",
        "def add(a, b):\n",
        "  return a + b"
      ],
      "metadata": {
        "id": "cV7m6QdMXcIK"
      },
      "execution_count": 2,
      "outputs": []
    },
    {
      "cell_type": "code",
      "source": [
        "# @title Joel Grus solution\n",
        "def add(a, b): return a + b"
      ],
      "metadata": {
        "cellView": "form",
        "id": "Brb1DTSyXUYq"
      },
      "execution_count": null,
      "outputs": []
    },
    {
      "cell_type": "code",
      "source": [
        "# @title Самопроверка\n",
        "assert add(10, 5) == 15, \"Проверка 1\"\n",
        "assert add([1,2], [3]) == [1,2,3], \"Проверка 2\""
      ],
      "metadata": {
        "id": "48UDRCjcYSDj"
      },
      "execution_count": 3,
      "outputs": []
    },
    {
      "cell_type": "markdown",
      "source": [
        "Таким образом, после того как вы написали функцию, вам нужно запустить код вашей ячейки и ячейки самопроверки."
      ],
      "metadata": {
        "id": "4CxE5xZqVFdt"
      }
    },
    {
      "cell_type": "markdown",
      "source": [
        "Хочу заметить, что данные colab ноутбуки не являются заменой прочтению книги, а наоборот хорошие помощники с её прочтением, которые помогут вам получить нужную практику. Хочу также посоветовать использовать полученные навыки на реальных кейсах, соревнованиях из kaggle или где то ещё. Лучше один раз попробовать чем сто раз прочитать."
      ],
      "metadata": {
        "id": "Z4bgFeiNaXih"
      }
    },
    {
      "cell_type": "markdown",
      "source": [
        "# Интенсивный курс языка Python"
      ],
      "metadata": {
        "id": "djrLB2yJyQiP"
      }
    },
    {
      "cell_type": "markdown",
      "source": [
        "Давайте ознакомимся с главой из книги, под названием \"Интенсивный курс языка Python"
      ],
      "metadata": {
        "id": "NaJug9zPZ8LK"
      }
    },
    {
      "cell_type": "markdown",
      "source": [
        "С установкой языка Python пока что заморачиваться не будем, все можно сделать здесь, не отходя от кассы."
      ],
      "metadata": {
        "id": "Q_-6k5sDa9Np"
      }
    },
    {
      "cell_type": "markdown",
      "source": [
        "## Пробельное форматирование\n",
        "\n",
        "Во многих языках программирования для разграничения блоков кода применяются\n",
        "фигурные скобки. В Python используются отступы:"
      ],
      "metadata": {
        "id": "UR881YwMZW8N"
      }
    },
    {
      "cell_type": "code",
      "source": [
        "# Знак 'решетки' знаменует начало комментария.\n",
        "# Сам Python игнорирует комментарии, но они полезны тем, кто читает код.\n",
        "# Пример отступов во вложенных циклах for\n",
        "for i in [1, 2, 3, 4, 5]:\n",
        "  print(i) # Первая строка в блоке for i\n",
        "  for j in [1, 2, 3, 4, 5]:\n",
        "    print(j) # Первая строка в блоке for j\n",
        "    print(i + j) # Последняя строка в блоке for j\n",
        "  print(i) # Последняя строка в блоке for i\n",
        "print(\"Циклы закончились\")"
      ],
      "metadata": {
        "id": "hnVdLHz1bq1y"
      },
      "execution_count": null,
      "outputs": []
    },
    {
      "cell_type": "markdown",
      "source": [
        "Это делает код легко читаемым, но в то же время заставляет следить за форматированием."
      ],
      "metadata": {
        "id": "teYWcuV8Z6ny"
      }
    },
    {
      "cell_type": "markdown",
      "source": [
        "Пробел внутри круглых и квадратных скобок игнорируется, что облегчает написание многословных выражений:"
      ],
      "metadata": {
        "id": "vfTkkoIjcQVS"
      }
    },
    {
      "cell_type": "code",
      "source": [
        "long_winded_cornputation = (1 + 2 + 3 + 4 + 5 + 6 + 7 + 8 + 9 + 10 +\n",
        "                          11 + 12 + 13 + 14 + 15 + 16 + 17 + 18 + 19 + 20)"
      ],
      "metadata": {
        "id": "pHABClGScScN"
      },
      "execution_count": 5,
      "outputs": []
    },
    {
      "cell_type": "markdown",
      "source": [
        "и легко читаемого кода:"
      ],
      "metadata": {
        "id": "Sov8rVmpfReg"
      }
    },
    {
      "cell_type": "code",
      "source": [
        "# Список списков\n",
        "list_of_lists = [ [1, 2, 3], [4, 5, 6], [7, 8, 9]]\n",
        "# Такой список список легче читается\n",
        "easier_to_read_list_of_lists = [[1, 2, 3],\n",
        "                                [4, 5, 6],\n",
        "                                [7, 8, 9]]"
      ],
      "metadata": {
        "id": "WMfvqaLRfSIa"
      },
      "execution_count": 6,
      "outputs": []
    },
    {
      "cell_type": "markdown",
      "source": [
        "## Модули\n",
        "\n",
        "Некоторые библиотеки среды программирования на основе Python не загружаются\n",
        "по умолчанию. Это касается как функционала, составляющего часть языка Python,\n",
        "так и сторонних инструментов, загружаемых самостоятельно. Для того чтобы их\n",
        "можно было использовать, необходимо импортировать модули, которые их содержат.\n",
        "\n",
        "Один из подходов заключается в том, чтобы просто импортировать сам модуль:"
      ],
      "metadata": {
        "id": "hUrtOQ76fEYB"
      }
    },
    {
      "cell_type": "code",
      "source": [
        "import re\n",
        "my_regex = re.compile(\"[0-9]+\", re.I)"
      ],
      "metadata": {
        "id": "YgXy5wpLfEKC"
      },
      "execution_count": 7,
      "outputs": []
    },
    {
      "cell_type": "markdown",
      "source": [
        "https://habr.com/ru/articles/349860/\n",
        "\n",
        "Регулярки на Python\n"
      ],
      "metadata": {
        "id": "PlRLuxSafZbK"
      }
    },
    {
      "cell_type": "markdown",
      "source": [
        "Если в коде переменная с именем re уже есть, то можно воспользоваться псевдонимом модуля:\n"
      ],
      "metadata": {
        "id": "M2vV-zj6ffJh"
      }
    },
    {
      "cell_type": "code",
      "source": [
        "import re as regex\n",
        "my_regex = regex.compile(\"[0-9]+\", regex.I)"
      ],
      "metadata": {
        "id": "GyeChI9Hfers"
      },
      "execution_count": 8,
      "outputs": []
    },
    {
      "cell_type": "markdown",
      "source": [
        "## Функции\n",
        "\n",
        "Функция - это правило, принимающее ноль или несколько аргументов на входе и\n",
        "возвращающее соответствующий результат на выходе. В Python функции обычно\n",
        "определяются при помощи инструкции def:"
      ],
      "metadata": {
        "id": "HYhEi2xpfp25"
      }
    },
    {
      "cell_type": "code",
      "source": [
        "def double(х):\n",
        "  '''\n",
        "  Когда требуется, здесь размещают\n",
        "  многострочньм документирующий комментарий docstring,\n",
        "  которьм поясняет, что именно функция вьNисляет.\n",
        "  Например, указанная функция умножает входящее значение на 2\n",
        "  '''\n",
        "  return х * 2"
      ],
      "metadata": {
        "id": "6Vm27-GkftTJ"
      },
      "execution_count": 9,
      "outputs": []
    },
    {
      "cell_type": "markdown",
      "source": [
        "Функции в Python рассматриваются как объекты первого класса. Это означает, что\n",
        "их можно назначать переменным и передавать в другие функции так же, как любые\n",
        "другие аргументы:"
      ],
      "metadata": {
        "id": "a6xVS6Ezf6X4"
      }
    },
    {
      "cell_type": "code",
      "source": [
        "# Применить функцию f к единице\n",
        "def apply_to_one(f):\n",
        "  \"\"\"Вызывает функцию f с единицей в качестве аргумента\"\"\"\n",
        "  return f(1)\n",
        "my_double = double # Ссьmка на ранее определенную функцию\n",
        "x = apply_to_one(my_double)\n",
        "x"
      ],
      "metadata": {
        "colab": {
          "base_uri": "https://localhost:8080/"
        },
        "id": "5yzXpLiHf24g",
        "outputId": "440fc208-c4c7-439b-e3a4-3a2f3599fe38"
      },
      "execution_count": 12,
      "outputs": [
        {
          "output_type": "execute_result",
          "data": {
            "text/plain": [
              "2"
            ]
          },
          "metadata": {},
          "execution_count": 12
        }
      ]
    },
    {
      "cell_type": "markdown",
      "source": [
        "Параметрам функции, помимо этого, можно передавать аргументы по умолчанию, которые следует указывать только тогда, когда ожидается значение, отличающееся\n",
        "от значения по умолчанию:"
      ],
      "metadata": {
        "id": "hbLzIvnZgI_Y"
      }
    },
    {
      "cell_type": "code",
      "source": [
        "def my_print(message=\"мoe сообщение по умолчанию\"):\n",
        "  print(message)\n",
        "my_print(\"привет\")\n",
        "my_print()"
      ],
      "metadata": {
        "colab": {
          "base_uri": "https://localhost:8080/"
        },
        "id": "kaXOUi5igFCo",
        "outputId": "b00736cf-b98c-4c98-980b-f23c2578ea07"
      },
      "execution_count": 1,
      "outputs": [
        {
          "output_type": "stream",
          "name": "stdout",
          "text": [
            "привет\n",
            "мoe сообщение по умолчанию\n"
          ]
        }
      ]
    },
    {
      "cell_type": "markdown",
      "source": [
        "Кроме того, можно легко создавать короткие анонимные функции или лямбдавыражения:"
      ],
      "metadata": {
        "id": "ESepK_KnvcwM"
      }
    },
    {
      "cell_type": "code",
      "source": [
        "у=apply_to_one(lambda х: х + 4)"
      ],
      "metadata": {
        "id": "GLGceIPIvcWl"
      },
      "execution_count": 33,
      "outputs": []
    },
    {
      "cell_type": "markdown",
      "source": [
        "## Строки\n",
        "\n",
        "Последовательности символов, или строковые значения, с обеих сторон ограничиваются одинарными или двойными кавычками (они должны совпадать):"
      ],
      "metadata": {
        "id": "-pCqLr2VgbS5"
      }
    },
    {
      "cell_type": "code",
      "source": [
        "single_quoted_string = 'наука о данных' # Одинарные\n",
        "double_quoted_string = \"наука о данных\" # Двойные"
      ],
      "metadata": {
        "id": "F3A5Ugfxgsfw"
      },
      "execution_count": null,
      "outputs": []
    },
    {
      "cell_type": "markdown",
      "source": [
        "Обратная косая черта используется для кодирования специальных символов. Например:"
      ],
      "metadata": {
        "id": "6n5CVUyhhFjC"
      }
    },
    {
      "cell_type": "code",
      "source": [
        "tab_string = \"\\t\" # Обозначает символ табуляции\n",
        "len(tab_string)"
      ],
      "metadata": {
        "colab": {
          "base_uri": "https://localhost:8080/"
        },
        "id": "6HI71Tc6hGCQ",
        "outputId": "5955be29-c05f-4f9b-ce65-0332e6deb6a8"
      },
      "execution_count": 13,
      "outputs": [
        {
          "output_type": "execute_result",
          "data": {
            "text/plain": [
              "1"
            ]
          },
          "metadata": {},
          "execution_count": 13
        }
      ]
    },
    {
      "cell_type": "markdown",
      "source": [
        "Если требуется непосредственно сама обратная косая черта, которая встречается\n",
        "в именах каталогов в операционной системе Windows или в регулярных выражениях, то при помощи r\"\" можно создать сырое строковое значение:\n"
      ],
      "metadata": {
        "id": "4c7OnIDghgEp"
      }
    },
    {
      "cell_type": "code",
      "source": [
        "not_tab_string = r\"\\t\" # Обозначает символы '\\' и 't'\n",
        "len(not_tab_string)"
      ],
      "metadata": {
        "colab": {
          "base_uri": "https://localhost:8080/"
        },
        "id": "OXwtvF-nhh8o",
        "outputId": "a02910c4-55a2-4a39-8dd4-58158b412eb1"
      },
      "execution_count": 14,
      "outputs": [
        {
          "output_type": "execute_result",
          "data": {
            "text/plain": [
              "2"
            ]
          },
          "metadata": {},
          "execution_count": 14
        }
      ]
    },
    {
      "cell_type": "markdown",
      "source": [
        "Многострочные последовательности символов можно создавать при помощи тройных одинарных (или двойных) кавычек:"
      ],
      "metadata": {
        "id": "EVUN0NFqhoIY"
      }
    },
    {
      "cell_type": "code",
      "source": [
        "multi_line_string = \"\"\"Это первая строка.\n",
        "это вторая строка\n",
        "а это третья строка\"\"\""
      ],
      "metadata": {
        "id": "-eCZgcn7hp2R"
      },
      "execution_count": null,
      "outputs": []
    },
    {
      "cell_type": "markdown",
      "source": [
        "Простым способом форматирования строк и подстановки значений в строки будет являтся f-строка"
      ],
      "metadata": {
        "id": "FDUG6DgBhwS4"
      }
    },
    {
      "cell_type": "code",
      "source": [
        "first_name = \"Джоэл\"\n",
        "last_name = \"Грас\"\n",
        "full_name = f\"{first_name} {last_name}\"\n",
        "full_name"
      ],
      "metadata": {
        "colab": {
          "base_uri": "https://localhost:8080/",
          "height": 35
        },
        "id": "UFiwvYvFhroQ",
        "outputId": "edf16ad4-558f-4491-fb9b-00904d6936b6"
      },
      "execution_count": 15,
      "outputs": [
        {
          "output_type": "execute_result",
          "data": {
            "text/plain": [
              "'Джоэл Грас'"
            ],
            "application/vnd.google.colaboratory.intrinsic+json": {
              "type": "string"
            }
          },
          "metadata": {},
          "execution_count": 15
        }
      ]
    },
    {
      "cell_type": "markdown",
      "source": [
        "## Исключения\n",
        "\n",
        "Когда что-то идет не так, Python вызывает исключение. Необработанные исключения приводят к непредвиденной остановке программы. Исключения обрабатываются при помощи инструкций try и except:"
      ],
      "metadata": {
        "id": "89QL8CIDiQy4"
      }
    },
    {
      "cell_type": "code",
      "source": [
        "try:\n",
        "  print(0/0)\n",
        "except ZeroDivisionError:\n",
        "  print(\"Нельзя делить на ноль\")"
      ],
      "metadata": {
        "colab": {
          "base_uri": "https://localhost:8080/"
        },
        "id": "ZIDwgpwiiS6w",
        "outputId": "a647274b-419a-4a8c-93ec-590319b27195"
      },
      "execution_count": 17,
      "outputs": [
        {
          "output_type": "stream",
          "name": "stdout",
          "text": [
            "Нельзя делить на ноль\n"
          ]
        }
      ]
    },
    {
      "cell_type": "markdown",
      "source": [
        "## Списки\n",
        "\n",
        "Наверное, наиважнейшей структурой данных в Python является список. Это просто\n",
        "упорядоченная совокупность (или коллекция), похожая на массив в других языках\n",
        "программирования, но с дополнительным функционалом."
      ],
      "metadata": {
        "id": "tXUi2fvmilJv"
      }
    },
    {
      "cell_type": "code",
      "source": [
        "integer_list = [1, 2, 3] # Список целых чисел\n",
        "heterogeneous_list = [\"строка\", 0.1, True] # Разнородный список\n",
        "list_of_lists = [integer_list, heterogeneous_list, [] ] # Список списков"
      ],
      "metadata": {
        "id": "NYKO4vjwipEI"
      },
      "execution_count": 19,
      "outputs": []
    },
    {
      "cell_type": "code",
      "source": [
        "list_length = len(integer_list)\n",
        "list_length"
      ],
      "metadata": {
        "colab": {
          "base_uri": "https://localhost:8080/"
        },
        "id": "UQMCyjLsi37A",
        "outputId": "83649f67-7d68-49bc-c360-1b9f847e519e"
      },
      "execution_count": 20,
      "outputs": [
        {
          "output_type": "execute_result",
          "data": {
            "text/plain": [
              "3"
            ]
          },
          "metadata": {},
          "execution_count": 20
        }
      ]
    },
    {
      "cell_type": "code",
      "source": [
        "list_sum = sum(integer_list)\n",
        "list_sum"
      ],
      "metadata": {
        "colab": {
          "base_uri": "https://localhost:8080/"
        },
        "id": "aHYjjrE8i9kB",
        "outputId": "6c45432e-b5bb-46d6-80a7-11520af627fd"
      },
      "execution_count": 21,
      "outputs": [
        {
          "output_type": "execute_result",
          "data": {
            "text/plain": [
              "6"
            ]
          },
          "metadata": {},
          "execution_count": 21
        }
      ]
    },
    {
      "cell_type": "markdown",
      "source": [
        "Вы можете устанавливать значение и получать доступ к п-му элементу списка\n",
        "с помощью квадратных скобок:"
      ],
      "metadata": {
        "id": "BPfyASs_jJtY"
      }
    },
    {
      "cell_type": "code",
      "source": [
        "x = list(range(10)) # Задает список [0, 1, ... , 9]\n",
        "zero = х[0] # равно 0, т. е. индекс 1-го элемента равен 0\n",
        "one = x[1] # равно 1\n",
        "nine = х[-1] # равно 9, по-Руthоn'овски взять последний элемент\n",
        "eight = х[-2] # равно 8, по-Руthоn'овски взять предпоследний элемент\n",
        "x[0] = -1\n",
        "x"
      ],
      "metadata": {
        "colab": {
          "base_uri": "https://localhost:8080/"
        },
        "id": "GvPhfZ5ejM8L",
        "outputId": "28e93459-2f90-4641-99b0-e98f49b1adbf"
      },
      "execution_count": 27,
      "outputs": [
        {
          "output_type": "execute_result",
          "data": {
            "text/plain": [
              "[-1, 1, 2, 3, 4, 5, 6, 7, 8, 9]"
            ]
          },
          "metadata": {},
          "execution_count": 27
        }
      ]
    },
    {
      "cell_type": "markdown",
      "source": [
        "Вы также можете применять квадратные скобки для \"нарезки\" списков. Срез i: j\n",
        "означает все элементы от i (включительно) до j (не включительно). Если опустить\n",
        "начало среза, то список будет нарезан с самого начала, а если опустить конец среза,\n",
        "то список будет нарезан до самого конца:"
      ],
      "metadata": {
        "id": "fcRVqLPXn5YR"
      }
    },
    {
      "cell_type": "code",
      "source": [
        "first_three = x[:3] # Первые три равны [-1, 1, 2]\n",
        "three_to_end = x[3:] # С третьего до конца равно [3, 4, ... , 9] one to four = x[l:5] # С первого по четвертый: равно [1, 2, 3, 4]\n",
        "last_three = x[-3:] # Последние три равны [7, 8, 9]\n",
        "without_first_and_last = x[1:-1] # Без первого и последнего\n",
        "сору_of_x = x[:] # Копия списка х равна (-1, 1, 2, ... , 9]\n",
        "without_first_and_last"
      ],
      "metadata": {
        "colab": {
          "base_uri": "https://localhost:8080/"
        },
        "id": "u15tEHaCn06v",
        "outputId": "16028633-71e9-4a46-9813-bca68061092f"
      },
      "execution_count": 28,
      "outputs": [
        {
          "output_type": "execute_result",
          "data": {
            "text/plain": [
              "[1, 2, 3, 4, 5, 6, 7, 8]"
            ]
          },
          "metadata": {},
          "execution_count": 28
        }
      ]
    },
    {
      "cell_type": "markdown",
      "source": [
        "Срез может принимать третий аргумент, обозначающий сдвиг, который может быть\n",
        "отрицательным:"
      ],
      "metadata": {
        "id": "dIWhUkNmo5gw"
      }
    },
    {
      "cell_type": "code",
      "source": [
        "print(x[::3])\n",
        "print(x[5:2:-1])"
      ],
      "metadata": {
        "colab": {
          "base_uri": "https://localhost:8080/"
        },
        "id": "EZ77BfVmo-Py",
        "outputId": "9289c753-9e5a-440e-82c3-999d84b1c797"
      },
      "execution_count": 29,
      "outputs": [
        {
          "output_type": "stream",
          "name": "stdout",
          "text": [
            "[-1, 3, 6, 9]\n",
            "[5, 4, 3]\n"
          ]
        }
      ]
    },
    {
      "cell_type": "markdown",
      "source": [
        "В Python имеется оператор in, который проверяет принадлежность элемента\n",
        "списку:"
      ],
      "metadata": {
        "id": "SdmO86VUqc7x"
      }
    },
    {
      "cell_type": "code",
      "source": [
        "print(1 in [1, 2, 3])\n",
        "print(0 in [1, 2, 3])"
      ],
      "metadata": {
        "colab": {
          "base_uri": "https://localhost:8080/"
        },
        "id": "Wi7lUhIspHIb",
        "outputId": "7adfcfb1-9a3d-43cb-d588-506cd95ff9a0"
      },
      "execution_count": 30,
      "outputs": [
        {
          "output_type": "stream",
          "name": "stdout",
          "text": [
            "True\n",
            "False\n"
          ]
        }
      ]
    },
    {
      "cell_type": "markdown",
      "source": [
        "Есть два вида изменения списков и других конструкций, например DataFrame из библиотеки pandas: на месте(inplace) когда вы модифицируете сам объект списка, другой вариант это не на месте, когда результат изменения просто возвращается по значению."
      ],
      "metadata": {
        "id": "43HStxW3qmxV"
      }
    },
    {
      "cell_type": "markdown",
      "source": [
        "Списки легко конкатенировать, т. е. сцеплять друг с другом. Если требуется модифицировать список прямо на месте, то используется метод extend, который добавляет элементы из другой коллекции:"
      ],
      "metadata": {
        "id": "Ye6-Jmg-rCSW"
      }
    },
    {
      "cell_type": "code",
      "source": [
        "x = [1, 2, 3]\n",
        "x.extend([4, 5, 6])\n",
        "x"
      ],
      "metadata": {
        "colab": {
          "base_uri": "https://localhost:8080/"
        },
        "id": "yQVl6NpyqjpG",
        "outputId": "26f01b81-3eb8-4703-f768-5b44f7c01485"
      },
      "execution_count": 32,
      "outputs": [
        {
          "output_type": "execute_result",
          "data": {
            "text/plain": [
              "[1, 2, 3, 4, 5, 6]"
            ]
          },
          "metadata": {},
          "execution_count": 32
        }
      ]
    },
    {
      "cell_type": "markdown",
      "source": [
        "## Кортежи\n",
        "\n",
        "Кортежи - это немутируемые двоюродные братья списков. Практически все, что\n",
        "можно делать со списком, не модифицируя его, можно делать и с кортежем. Вместо\n",
        "квадратных скобок кортеж оформляют круглыми скобками, или вообще обходятся\n",
        "без них:"
      ],
      "metadata": {
        "id": "5kUttEFKvMfl"
      }
    },
    {
      "cell_type": "code",
      "source": [
        "my_list = [1, 2]\n",
        "my_tuple = (1, 2)\n",
        "other_tuple = 3, 4\n",
        "my_list[1] = 3"
      ],
      "metadata": {
        "id": "SAQx89bpvL6V"
      },
      "execution_count": 34,
      "outputs": []
    },
    {
      "cell_type": "code",
      "source": [
        "try:\n",
        "  my_tuple[1] = 2\n",
        "except TypeError:\n",
        "  print('Нельзя модифицировать кортежи')"
      ],
      "metadata": {
        "colab": {
          "base_uri": "https://localhost:8080/"
        },
        "id": "lLTCtXFqv56G",
        "outputId": "1664dead-bf89-4f89-9576-0de0e1fd30e1"
      },
      "execution_count": 35,
      "outputs": [
        {
          "output_type": "stream",
          "name": "stdout",
          "text": [
            "Нельзя модифицировать кортежи\n"
          ]
        }
      ]
    },
    {
      "cell_type": "markdown",
      "source": [
        "Кортежи обеспечивают удобный способ для возврата нескольких значений из\n",
        "функций:"
      ],
      "metadata": {
        "id": "Qtios9fawLGX"
      }
    },
    {
      "cell_type": "code",
      "source": [
        "# Функция возвращает сумму и произведение двух параметров\n",
        "def sum_and_product(x, у):\n",
        "  return (x + у), (x * у)\n",
        "sp = sum_and_product(2, 3)\n",
        "s, p = sum_and_product(5, 10)\n",
        "print(sp)\n",
        "print(s, p)"
      ],
      "metadata": {
        "colab": {
          "base_uri": "https://localhost:8080/"
        },
        "id": "GdiBOS13wPSA",
        "outputId": "d2035a66-0299-4828-f15a-21e63a7306c8"
      },
      "execution_count": 38,
      "outputs": [
        {
          "output_type": "stream",
          "name": "stdout",
          "text": [
            "(5, 6)\n",
            "15 50\n"
          ]
        }
      ]
    },
    {
      "cell_type": "markdown",
      "source": [
        "Кортежи (и списки) также используются во множественном присваивании:"
      ],
      "metadata": {
        "id": "ncWNaQyQwjGk"
      }
    },
    {
      "cell_type": "code",
      "source": [
        "x, y= 1, 2\n",
        "x, y= y, x"
      ],
      "metadata": {
        "id": "tyIF83CIwgOs"
      },
      "execution_count": 42,
      "outputs": []
    },
    {
      "cell_type": "code",
      "source": [
        "print(x)\n",
        "print(y)"
      ],
      "metadata": {
        "colab": {
          "base_uri": "https://localhost:8080/"
        },
        "id": "X5SJxjvPwnRF",
        "outputId": "4b9f6795-82ab-4eb9-9383-eb0ebba7aac7"
      },
      "execution_count": 43,
      "outputs": [
        {
          "output_type": "stream",
          "name": "stdout",
          "text": [
            "2\n",
            "1\n"
          ]
        }
      ]
    },
    {
      "cell_type": "markdown",
      "source": [
        "## Словари\n",
        "\n",
        "Словарь или ассоциативный список - это еще одна фундаментальная структура\n",
        "данных. В нем значения ассоциированы с ключами, что позволяет быстро извлекать\n",
        "значение, соответствующее конкретному ключу:"
      ],
      "metadata": {
        "id": "9x51MJkUwnAU"
      }
    },
    {
      "cell_type": "code",
      "source": [
        "empty_dict = {} # Задать словарь по-Руthоn'овски\n",
        "empty_dict2 = dict() # Не совсем по-Руthоn'овски\n",
        "grades = {\"Joel\" : 80, \"Tim\" : 95} # Литерал словаря (оценки за экзамены)"
      ],
      "metadata": {
        "id": "miMwmLQ0wy4L"
      },
      "execution_count": 44,
      "outputs": []
    },
    {
      "cell_type": "markdown",
      "source": [
        "Доступ к значению по ключу можно получить при помощи квадратных скобок:"
      ],
      "metadata": {
        "id": "BrtC5PGtw5JN"
      }
    },
    {
      "cell_type": "code",
      "source": [
        "joels_grade = grades[\"Joel\"] # равно 80"
      ],
      "metadata": {
        "id": "MTKqOl3Jw3gT"
      },
      "execution_count": 45,
      "outputs": []
    },
    {
      "cell_type": "markdown",
      "source": [
        "При попытке запросить значение, которое в словаре отсутствует, будет выдано сообщение об ошибке ключа KeyError:"
      ],
      "metadata": {
        "id": "CTqJsje9y79r"
      }
    },
    {
      "cell_type": "code",
      "source": [
        "try:\n",
        "  kates_has_error = grades[\"Kate\"]\n",
        "except KeyError:\n",
        "  print(\"Оценки для Кэйт отсутствуют!\")"
      ],
      "metadata": {
        "colab": {
          "base_uri": "https://localhost:8080/"
        },
        "id": "lHYLdtBay8kM",
        "outputId": "3be46516-a975-485a-e8d9-5b25333deb69"
      },
      "execution_count": 48,
      "outputs": [
        {
          "output_type": "stream",
          "name": "stdout",
          "text": [
            "Оценки для Кэйт отсутствуют!\n"
          ]
        }
      ]
    },
    {
      "cell_type": "markdown",
      "source": [
        "Проверить наличие ключа можно при помощи оператора in:"
      ],
      "metadata": {
        "id": "RBcH03YuywYc"
      }
    },
    {
      "cell_type": "code",
      "source": [
        "joel_has_grade = \"Joel\" in grades\n",
        "kate_has_grade = \"Kate\" in grades"
      ],
      "metadata": {
        "id": "-3ZeFlidywus"
      },
      "execution_count": 46,
      "outputs": []
    },
    {
      "cell_type": "code",
      "source": [
        "print(kate_has_grade)"
      ],
      "metadata": {
        "colab": {
          "base_uri": "https://localhost:8080/"
        },
        "id": "XUDqoRGAy0Zc",
        "outputId": "dc6da672-54b6-4c89-c92e-361a9d7507f7"
      },
      "execution_count": 47,
      "outputs": [
        {
          "output_type": "stream",
          "name": "stdout",
          "text": [
            "False\n"
          ]
        }
      ]
    },
    {
      "cell_type": "markdown",
      "source": [
        "Словари имеют метод get, который при поиске отсутствующего ключа вместо вызова исключения возвращает значение по умолчанию:"
      ],
      "metadata": {
        "id": "SjrRtE10y4YN"
      }
    },
    {
      "cell_type": "code",
      "source": [
        "joels_grade = grades.get(\"Joel\", 0) # равно 80\n",
        "kates_grade = grades.get(\"Kate\", 0) # равно 0\n",
        "no_ones_grade = grades.get(\"Hиктo\") # Значение по умолчанию равно None"
      ],
      "metadata": {
        "id": "8gWx4NjgzNPl"
      },
      "execution_count": 50,
      "outputs": []
    },
    {
      "cell_type": "markdown",
      "source": [
        "Присваивание значения по ключу выполняется при помощи тех же квадратных\n",
        "скобок:"
      ],
      "metadata": {
        "id": "6kUDeUFYzWoM"
      }
    },
    {
      "cell_type": "code",
      "source": [
        "grades[\"Tim\"] = 99\n",
        "grades[\"Kate\"] = 100\n",
        "num_students = len(grades)\n",
        "num_students"
      ],
      "metadata": {
        "colab": {
          "base_uri": "https://localhost:8080/"
        },
        "id": "vlmBjQ-xzaGc",
        "outputId": "dbb55381-5407-4188-ca9c-d7b27e4d32b7"
      },
      "execution_count": 52,
      "outputs": [
        {
          "output_type": "execute_result",
          "data": {
            "text/plain": [
              "3"
            ]
          },
          "metadata": {},
          "execution_count": 52
        }
      ]
    },
    {
      "cell_type": "markdown",
      "source": [
        "Словари часто используются в качестве простого способа представить структурные\n",
        "данные:"
      ],
      "metadata": {
        "id": "5mIVMXmSzoEL"
      }
    },
    {
      "cell_type": "code",
      "source": [
        "tweet = {\n",
        "\"user\" : \"joelgrus\",\n",
        "\"text\" : \"Наука о данных - потрясающая тема\",\n",
        "\"retweet_count\" : 100,\n",
        "\"hashtags\" : [\"#data\", \"l!science\", \"#datascience\", \"#awesome\", \"#yolo\"]\n",
        "}"
      ],
      "metadata": {
        "id": "ErAfiKwNzon1"
      },
      "execution_count": 53,
      "outputs": []
    },
    {
      "cell_type": "markdown",
      "source": [
        "хотя вскоре мы увидим подход получше."
      ],
      "metadata": {
        "id": "eQVvZMgzzvIK"
      }
    },
    {
      "cell_type": "markdown",
      "source": [
        "Помимо поиска отдельных ключей можно обратиться ко всем сразу:"
      ],
      "metadata": {
        "id": "ydsxii5tzxUD"
      }
    },
    {
      "cell_type": "code",
      "source": [
        "tweet_keys = tweet.keys() # Итерируемый объект ДЛЯ ключей\n",
        "tweet_values = tweet.values() # Итерируемый объект для значений\n",
        "tweet_items = tweet.items() # Итерируемый объект ДЛЯ кортежей\n",
        "                            # (ключ, значение)\n",
        "\"user\" in tweet_keys # Возвращает True, но не по-Руthоn'овски\n",
        "\"user\" in tweet # Руthоn'овский способ проверки ключа,\n",
        "# используя быстрое in\n",
        "\"joelgrus\" in tweet_values # True (медленно, но единственный способ проверки)"
      ],
      "metadata": {
        "colab": {
          "base_uri": "https://localhost:8080/"
        },
        "id": "kgwY6NDwztr6",
        "outputId": "7680af60-af2f-4a28-93d2-2077c9eceb4b"
      },
      "execution_count": 54,
      "outputs": [
        {
          "output_type": "execute_result",
          "data": {
            "text/plain": [
              "True"
            ]
          },
          "metadata": {},
          "execution_count": 54
        }
      ]
    },
    {
      "cell_type": "markdown",
      "source": [
        "Ключи словаря должны быть хешируемыми; в частности, в качестве ключей нельзя\n",
        "использовать списки. Если нужен составной ключ, то лучше воспользоваться кортежем или же найти способ преобразования ключа в строковое значение"
      ],
      "metadata": {
        "id": "6mAWnvdu0MMj"
      }
    },
    {
      "cell_type": "markdown",
      "source": [
        "## Словарь defaultdict\n",
        "Представьте, что вы пытаетесь подсчитать количества появлений слов в документе.\n",
        "Очевидным решением задачи является создание словаря, в котором ключи - это\n",
        "слова, а значения - количества появлений слов. Во время проверки каждого слова\n",
        "количество появлений слов увеличивается, если текущее слово уже есть в словаре,\n",
        "и добавляется в словарь, если оно отсутствует:"
      ],
      "metadata": {
        "id": "LC2vXdBO0MtL"
      }
    },
    {
      "cell_type": "code",
      "source": [
        "# Частотности слов\n",
        "word_counts = {}\n",
        "document = {}\n",
        "for word in document:\n",
        "  if word in word_counts:\n",
        "    word_counts[word] += 1\n",
        "  else:\n",
        "    word_counts[word] = 1"
      ],
      "metadata": {
        "id": "3vDDwspd0PlD"
      },
      "execution_count": 68,
      "outputs": []
    },
    {
      "cell_type": "markdown",
      "source": [
        "Кроме этого, можно воспользоваться приемом под названием \"лучше просить прощения, чем разрешения\" и перехватывать ошибку при попытке обратиться к отсутствующему ключу:"
      ],
      "metadata": {
        "id": "Hj9QuhLo1ZVT"
      }
    },
    {
      "cell_type": "code",
      "source": [
        "word_counts = { }\n",
        "for word in document:\n",
        "  try:\n",
        "    word_counts[word] += 1\n",
        "  except KeyError:\n",
        "    word_counts[word] = 1"
      ],
      "metadata": {
        "id": "_coVol1_1bHv"
      },
      "execution_count": 57,
      "outputs": []
    },
    {
      "cell_type": "markdown",
      "source": [
        "Третий подход - использовать метод get, который изящно выходит из ситуации\n",
        "с отсутствующими ключами:"
      ],
      "metadata": {
        "id": "LCwcfY2B3KJu"
      }
    },
    {
      "cell_type": "code",
      "source": [
        "word_counts = {}\n",
        "for word in document:\n",
        "  previous_count = word_counts.get(word, 0)\n",
        "  word_counts[word] = previous_count + 1"
      ],
      "metadata": {
        "id": "Vg4BxZZr3BZ6"
      },
      "execution_count": 59,
      "outputs": []
    },
    {
      "cell_type": "markdown",
      "source": [
        "Все перечисленные приемы немного громоздкие, и по этой причине целесообразно\n",
        "использовать словарь defaultdict, т. е. словарь со значением по умолчанию. Он похож на обычный словарь за исключением одной особенности - при попытке обратиться к ключу, которого в нем нет, он сперва добавляет для него значение, используя функцию без аргументов, которая предоставляется при его создании. Для того\n",
        "чтобы воспользоваться словарями defaultdict, их необходимо импортировать из\n",
        "модуля collections:"
      ],
      "metadata": {
        "id": "tcPzRtBA3TMi"
      }
    },
    {
      "cell_type": "code",
      "source": [
        "from collections import defaultdict\n",
        "word_counts = defaultdict(int)\n",
        "for word in document:\n",
        "  word_counts[word] += 1"
      ],
      "metadata": {
        "id": "qzumRC6g3cKC"
      },
      "execution_count": 60,
      "outputs": []
    },
    {
      "cell_type": "markdown",
      "source": [
        "Кроме того, использование словарей defaultdict имеет практическую пользу во\n",
        "время работы со списками, словарями и даже со собственными функциями:"
      ],
      "metadata": {
        "id": "MGP5vQEn3iA7"
      }
    },
    {
      "cell_type": "code",
      "source": [
        "dd_list = defaultdict(list) # list() возвращает пустой список\n",
        "dd_list[2].append(1) # Теперь dd_list содержит {2: [1]}\n",
        "\n",
        "\n",
        "dd_dict = defaultdict(dict) # dict() возвращает пустой словарь dict\n",
        "dd_dict[\"Джoeл\"][\"город\"] = \"Сиэтл\" # { \"Джоел\" : { \"город\" : Сиэтл\"}}\n",
        "\n",
        "dd_pair = defaultdict(lambda: [0,0])\n",
        "dd_pair[2][1] = 1 # Теперь dd_pair содержит {2: (0,1)}"
      ],
      "metadata": {
        "id": "S4al7A_83lHi"
      },
      "execution_count": 61,
      "outputs": []
    },
    {
      "cell_type": "markdown",
      "source": [
        "Эrи возможности понадобятся, когда словари будут использоваться для \"сбора\"\n",
        "результатов по некоторому ключу и когда необходимо избежать повторяющихся\n",
        "проверок на присутствие ключа в словаре."
      ],
      "metadata": {
        "id": "90NJvhEq381a"
      }
    },
    {
      "cell_type": "markdown",
      "source": [
        "## Счетчики\n",
        "\n",
        "Словарь-счетчик counter трансформирует последовательность значений в объект,\n",
        "похожий на словарь defaultdict (int), где ключам поставлены в соответствие количества появлений. Он в основном будет применяться при создании гистограмм:"
      ],
      "metadata": {
        "id": "YSbwyOqr4DgC"
      }
    },
    {
      "cell_type": "code",
      "source": [
        "from collections import Counter\n",
        "c = Counter([0, 1, 2, 0])\n",
        "c"
      ],
      "metadata": {
        "colab": {
          "base_uri": "https://localhost:8080/"
        },
        "id": "6NrZgrBw38d6",
        "outputId": "79669eb9-e769-459f-d6ee-4b5fa32dba69"
      },
      "execution_count": 64,
      "outputs": [
        {
          "output_type": "execute_result",
          "data": {
            "text/plain": [
              "Counter({0: 2, 1: 1, 2: 1})"
            ]
          },
          "metadata": {},
          "execution_count": 64
        }
      ]
    },
    {
      "cell_type": "markdown",
      "source": [
        "Его функционал позволяет достаточно легко решать задачу подсчета количества\n",
        "появлений слов:"
      ],
      "metadata": {
        "id": "yjz0xtDJ4ZWC"
      }
    },
    {
      "cell_type": "code",
      "source": [
        "word_counts = Counter(document)"
      ],
      "metadata": {
        "id": "KbJ0KgDB4PPq"
      },
      "execution_count": 70,
      "outputs": []
    },
    {
      "cell_type": "markdown",
      "source": [
        "Словарь counter располагает методом most_comrnon, который нередко бывает полезен:"
      ],
      "metadata": {
        "id": "TmfFIX3D4cAy"
      }
    },
    {
      "cell_type": "code",
      "source": [
        "# Напечатать 10 наиболее встречаемых слов и их количество появлений\n",
        "for word, count in word_counts.most_common(10):\n",
        "  print(word, count)"
      ],
      "metadata": {
        "id": "mBOPYbx04byi"
      },
      "execution_count": 71,
      "outputs": []
    },
    {
      "cell_type": "markdown",
      "source": [
        "## Множества\n",
        "\n",
        "Еще одна полезная структура данных - это множество set, которая представляет\n",
        "собой совокупность неупорядоченных элементов без повторов:"
      ],
      "metadata": {
        "id": "j_hrEIH843YM"
      }
    },
    {
      "cell_type": "code",
      "source": [
        "s = set() # Задать пустое множество\n",
        "s.add(1) # Теперь s равно {1}\n",
        "s.add(2) # Теперь s равно {1, 2}\n",
        "s.add(2) # s как и прежде равно {1, 2}\n",
        "х = len(s) # равно 2\n",
        "у = 2 in s # равно True\n",
        "z = 3 in s # равно False"
      ],
      "metadata": {
        "id": "3_uE0XBm5B3B"
      },
      "execution_count": 72,
      "outputs": []
    },
    {
      "cell_type": "markdown",
      "source": [
        "Множества будут использоваться по двум причинам. Во-первых, операция in на\n",
        "множествах очень быстрая. Если необходимо проверить большую совокупность\n",
        "элементов на принадлежность некоторой последовательности, то множество set\n",
        "подходит для этого лучше, чем список:"
      ],
      "metadata": {
        "id": "5QAdlsik5L6h"
      }
    },
    {
      "cell_type": "code",
      "source": [
        "# Список стоп-слов\n",
        "stopwords_list = [\"а\", \"an\", \"at\"] + ['some', 'other', 'words'] + [ \"yet\", \"you\"]\n",
        "\"zip\" in stopwords_list # False, но проверяется каждый элемент\n",
        "# Множество стоп-слов\n",
        "stopwords_set = set(stopwords_list)\n",
        "\"zip\" in stopwords_set # Очень быстрая проверка"
      ],
      "metadata": {
        "colab": {
          "base_uri": "https://localhost:8080/"
        },
        "id": "A4V1XBJJ5OlL",
        "outputId": "1cacf454-68a7-4158-93bb-e3ac2440f305"
      },
      "execution_count": 73,
      "outputs": [
        {
          "output_type": "execute_result",
          "data": {
            "text/plain": [
              "False"
            ]
          },
          "metadata": {},
          "execution_count": 73
        }
      ]
    },
    {
      "cell_type": "markdown",
      "source": [
        "Вторая причина - получение уникальных элементов в наборе данных:"
      ],
      "metadata": {
        "id": "9t66vpcI5k2K"
      }
    },
    {
      "cell_type": "code",
      "source": [
        "item_list = [ 1, 2, 3, 1, 2, 3] # Список\n",
        "num_items = len(item_list) # равно 6\n",
        "item_set = set(item_list) # Множество {1, 2, 3}\n",
        "num_distinct_items = len(item_set) # равно 3\n",
        "distinct_item_list = list(item_set) # Список [1, 2, 3]"
      ],
      "metadata": {
        "id": "O7GoaOcm5kbC"
      },
      "execution_count": 74,
      "outputs": []
    },
    {
      "cell_type": "markdown",
      "source": [
        "## Поток управления\n",
        "\n",
        "Как и в большинстве других языков программирования, действия можно выполнять\n",
        "по условию, применяя инструкцию if:"
      ],
      "metadata": {
        "id": "NrRPx90V54eB"
      }
    },
    {
      "cell_type": "code",
      "source": [
        "if 1 > 2:\n",
        "  message = \"если 1 была бы больше 2 ... \"\n",
        "elif 1 > 3:\n",
        "  message = \"elif означает 'else if'\"\n",
        "else:\n",
        "  message = \"когда все предыдущие условия не выполняются, используется else\""
      ],
      "metadata": {
        "id": "OHSJXQF56Ecb"
      },
      "execution_count": 75,
      "outputs": []
    },
    {
      "cell_type": "markdown",
      "source": [
        "Тернарный оператор можно записать так:"
      ],
      "metadata": {
        "id": "1NyTQA-76mPz"
      }
    },
    {
      "cell_type": "code",
      "source": [
        "parity = \"четное\" if х % 2 == 0 else \"нечетное\""
      ],
      "metadata": {
        "id": "iy4CUsC6600Z"
      },
      "execution_count": 76,
      "outputs": []
    },
    {
      "cell_type": "markdown",
      "source": [
        "В Python имеется цикл while:"
      ],
      "metadata": {
        "id": "wIHDdP1p65IB"
      }
    },
    {
      "cell_type": "code",
      "source": [
        "x = 0\n",
        "while x < 10:\n",
        "  print(x, \"меньше 10\")\n",
        "  x += 1"
      ],
      "metadata": {
        "colab": {
          "base_uri": "https://localhost:8080/"
        },
        "id": "k9UCdmWl68px",
        "outputId": "be076d33-86c6-433a-dddf-991413b45b3f"
      },
      "execution_count": 79,
      "outputs": [
        {
          "output_type": "stream",
          "name": "stdout",
          "text": [
            "0 меньше 10\n",
            "1 меньше 10\n",
            "2 меньше 10\n",
            "3 меньше 10\n",
            "4 меньше 10\n",
            "5 меньше 10\n",
            "6 меньше 10\n",
            "7 меньше 10\n",
            "8 меньше 10\n",
            "9 меньше 10\n"
          ]
        }
      ]
    },
    {
      "cell_type": "markdown",
      "source": [
        "И цикл for, проходящийся по итерируемым объектам"
      ],
      "metadata": {
        "id": "8Iu7ZLNs7AQJ"
      }
    },
    {
      "cell_type": "code",
      "source": [
        "for x in range(10):\n",
        "  print(x, \"меньше 10\")"
      ],
      "metadata": {
        "colab": {
          "base_uri": "https://localhost:8080/"
        },
        "id": "JlM0Aswy7Ihk",
        "outputId": "81948afc-1395-4561-e6d8-c08e647e0515"
      },
      "execution_count": 80,
      "outputs": [
        {
          "output_type": "stream",
          "name": "stdout",
          "text": [
            "0 меньше 10\n",
            "1 меньше 10\n",
            "2 меньше 10\n",
            "3 меньше 10\n",
            "4 меньше 10\n",
            "5 меньше 10\n",
            "6 меньше 10\n",
            "7 меньше 10\n",
            "8 меньше 10\n",
            "9 меньше 10\n"
          ]
        }
      ]
    },
    {
      "cell_type": "markdown",
      "source": [
        "Если требуется более сложная логика управления циклом, то можно воспользоваться инструкциями continue и break:"
      ],
      "metadata": {
        "id": "WepLTr6g7MMs"
      }
    },
    {
      "cell_type": "code",
      "source": [
        "for x in range(10):\n",
        "  if x == 3:\n",
        "    continue # Сразу перейти к следующей итерации\n",
        "  if x == 5:\n",
        "    break\n",
        "  print(x)\n"
      ],
      "metadata": {
        "colab": {
          "base_uri": "https://localhost:8080/"
        },
        "id": "BW8xaQ_n7Qky",
        "outputId": "58698d50-673a-4fd4-ee71-464fee750205"
      },
      "execution_count": 81,
      "outputs": [
        {
          "output_type": "stream",
          "name": "stdout",
          "text": [
            "0\n",
            "1\n",
            "2\n",
            "4\n"
          ]
        }
      ]
    },
    {
      "cell_type": "markdown",
      "source": [
        "## Истинность\n",
        "Булевы, или логические, переменные в Python работают так же, как и в большинстве других языков программирования, лишь с одним исключением - они пишутся\n",
        "с заглавной буквы:"
      ],
      "metadata": {
        "id": "3Zki4Lg97ebJ"
      }
    },
    {
      "cell_type": "code",
      "source": [
        "one_is_less_than_two = 1 < 2 # равно True\n",
        "true_equals_false = True == False # равно False"
      ],
      "metadata": {
        "id": "_diSrcii7qXp"
      },
      "execution_count": null,
      "outputs": []
    },
    {
      "cell_type": "markdown",
      "source": [
        "None, который соответствует значению null в других языках:\n"
      ],
      "metadata": {
        "id": "9uGEZJyM7y-5"
      }
    },
    {
      "cell_type": "code",
      "source": [
        "х = None\n",
        "assert х == None, \"не Руthоn'овский способ проверки наличия None\"\n",
        "assert х is None, \"Руthоn'овский способ проверки наличия None\""
      ],
      "metadata": {
        "id": "CjQZKCW_7zZh"
      },
      "execution_count": 82,
      "outputs": []
    },
    {
      "cell_type": "markdown",
      "source": [
        "В Python может использоваться любое значение там, где ожидается логический тип\n",
        "вoolean. Все следующие элементы имеют логическое значение False:\n",
        "\n",
        "\n",
        "*   False\n",
        "*   None\n",
        "*   [] (пустой список)\n",
        "*   {} (пустой словарь)\n",
        "*   set() (пустое множество)\n",
        "*   \"\"\n",
        "*   0\n",
        "*   0.0\n"
      ],
      "metadata": {
        "id": "7cBIzi-S729a"
      }
    },
    {
      "cell_type": "markdown",
      "source": [
        "Встроенная функция all языка Python берет список и возвращает тrue только тогда,\n",
        "когда каждый элемент списка истинен, а встроенная функция any возвращает тrue,\n",
        "когда истинен хотя бы один элемент:"
      ],
      "metadata": {
        "id": "KIIAO7xP9Ubg"
      }
    },
    {
      "cell_type": "code",
      "source": [
        "print(all([True, 1, {3} ])) # True\n",
        "print(all([True, 1, {}])) # False, {} является ложным\n",
        "print(any([True, 1, {}])) # True, True является истинным\n",
        "print(all([])) # True, ложные элементы в списке отсутствуют\n",
        "print(any([])) # False, истинные элементы в списке отсутствуют"
      ],
      "metadata": {
        "colab": {
          "base_uri": "https://localhost:8080/"
        },
        "id": "ERNTGHQl72wR",
        "outputId": "9e84c683-31f8-4850-ba4a-4216cd1bf1c1"
      },
      "execution_count": 83,
      "outputs": [
        {
          "output_type": "stream",
          "name": "stdout",
          "text": [
            "True\n",
            "False\n",
            "True\n",
            "True\n",
            "False\n"
          ]
        }
      ]
    },
    {
      "cell_type": "markdown",
      "source": [
        "## Сортировка\n",
        "\n",
        "Каждый список в Python располагает методом sort(), который упорядочивает его\n",
        "прямо на месте, т. е. внутри списка без выделения дополнительной памяти. Для\n",
        "того чтобы не загрязнять список, можно применить встроенную функцию sorted,\n",
        "которая возвращает новый список"
      ],
      "metadata": {
        "id": "unrlhfOa9254"
      }
    },
    {
      "cell_type": "code",
      "source": [
        "x = [4,1,2,3]\n",
        "у= sorted(x) # у равен [1, 2, 3, 4], х остался без изменений\n",
        "x.sort() # Теперь х равен (1, 2, 3, 4)"
      ],
      "metadata": {
        "id": "7MOe3rqJ-ICl"
      },
      "execution_count": 85,
      "outputs": []
    },
    {
      "cell_type": "markdown",
      "source": [
        "По умолчанию метод sort () и функция sorted сортируют список по возрастающему\n",
        "значению элементов, сравнивая элементы друг с другом.\n",
        "Если необходимо, чтобы элементы были отсортированы по убывающему значению,\n",
        "надо указать аргумент направления сортировки reverse=True. А вместо сравнения самих элементов можно сравнивать результаты функции, которую надо указать\n",
        "вместе с ключом key:"
      ],
      "metadata": {
        "id": "IP--9Nft-W8h"
      }
    },
    {
      "cell_type": "code",
      "source": [
        "# Сортировать список по абсолютному значению в убывающем порядке\n",
        "x = sorted([-4,1,-2,3], key=abs, reverse=True) # равно [-4,3,-2,1]\n",
        "# Сортировать слова и их количества появлений\n",
        "# по убываIСЩему значению количеств\n",
        "wc = sorted(word_counts.items(),\n",
        "            key=lambda word_and_count: word_and_count[1],\n",
        "            reverse=True)"
      ],
      "metadata": {
        "id": "45ckv-Af-ZNx"
      },
      "execution_count": 86,
      "outputs": []
    },
    {
      "cell_type": "markdown",
      "source": [
        "## Включения в список\n",
        "Нередко появляется необходимость преобразовать некий список в другой, выбирая\n",
        "только определенные элементы, или внося по ходу изменения в элементы исходного списка, или выполняя и то и другое одновременно. Руthоn'овским решением\n",
        "является применение операции включения в список:"
      ],
      "metadata": {
        "id": "KRPHFNbf-vMZ"
      }
    },
    {
      "cell_type": "code",
      "source": [
        "# Четные числа\n",
        "even_numbers = [х for х in range(5) if х % 2==0] # [0, 2, 4]\n",
        "# Квадраты чисел\n",
        "squares = [х * х for х in range(5)] # [0, 1, 4, 9, 16]\n",
        "# Квадраты четных чисел\n",
        "even_squares = [х * х for х in even_numbers] # [0, 4, 16]"
      ],
      "metadata": {
        "id": "3_x5bI8c-pZo"
      },
      "execution_count": 87,
      "outputs": []
    },
    {
      "cell_type": "markdown",
      "source": [
        "Списки можно преобразовать в словари dict или множества set аналогичным образом:"
      ],
      "metadata": {
        "id": "nN7G_vMG_Df4"
      }
    },
    {
      "cell_type": "code",
      "source": [
        "# Словарь с квадратами чисел\n",
        "square_dict = {х: х * х for х in range(5)} # {0:0, 1:1, 2:4, 3:9, 4:16)\n",
        "# Множество с квадратами чисел\n",
        "square_set = {х * х for х in [1, -1]} # {1}\n"
      ],
      "metadata": {
        "id": "NbQAmL3m_GLa"
      },
      "execution_count": 89,
      "outputs": []
    },
    {
      "cell_type": "markdown",
      "source": [
        "## Автоматическое тестирование и инструкция assert\n",
        "\n",
        "Как исследователи данных, мы будем создавать много кода. Как убедиться в том,\n",
        "что наш код верен? Один из способов- использовать типы (мы коснемся их\n",
        "вкратце), еще один способ - применять автоматизированные тесты.\n",
        "Существуют сложные вычислительные каркасы, предназначенные для написания и\n",
        "запуска тестов, но в этой книге мы ограничимся использованием инструкций\n",
        "assert, которые заставят ваш код вызвать ошибку подтверждения AssertionError,\n",
        "если указанное вами условие не является истинным:"
      ],
      "metadata": {
        "id": "5dT83CbL_XQg"
      }
    },
    {
      "cell_type": "code",
      "source": [
        "assert 1 + 1 == 2\n",
        "assert 1 + 1 == 3, \"1 + 1 должно равняться 2, но здесь это не так\""
      ],
      "metadata": {
        "colab": {
          "base_uri": "https://localhost:8080/",
          "height": 193
        },
        "id": "u8oADgSQAB1z",
        "outputId": "f2aa5611-4b5c-42a5-deee-73eb8ac7a344"
      },
      "execution_count": 92,
      "outputs": [
        {
          "output_type": "error",
          "ename": "AssertionError",
          "evalue": "ignored",
          "traceback": [
            "\u001b[0;31m---------------------------------------------------------------------------\u001b[0m",
            "\u001b[0;31mAssertionError\u001b[0m                            Traceback (most recent call last)",
            "\u001b[0;32m<ipython-input-92-a46aa467c7be>\u001b[0m in \u001b[0;36m<cell line: 2>\u001b[0;34m()\u001b[0m\n\u001b[1;32m      1\u001b[0m \u001b[0;32massert\u001b[0m \u001b[0;36m1\u001b[0m \u001b[0;34m+\u001b[0m \u001b[0;36m1\u001b[0m \u001b[0;34m==\u001b[0m \u001b[0;36m2\u001b[0m\u001b[0;34m\u001b[0m\u001b[0;34m\u001b[0m\u001b[0m\n\u001b[0;32m----> 2\u001b[0;31m \u001b[0;32massert\u001b[0m \u001b[0;36m1\u001b[0m \u001b[0;34m+\u001b[0m \u001b[0;36m1\u001b[0m \u001b[0;34m==\u001b[0m \u001b[0;36m3\u001b[0m\u001b[0;34m,\u001b[0m \u001b[0;34m\"1 + 1 должно равняться 2, но эдесь это не так\"\u001b[0m\u001b[0;34m\u001b[0m\u001b[0;34m\u001b[0m\u001b[0m\n\u001b[0m",
            "\u001b[0;31mAssertionError\u001b[0m: 1 + 1 должно равняться 2, но эдесь это не так"
          ]
        }
      ]
    },
    {
      "cell_type": "markdown",
      "source": [
        "## Объектно-ориентированное программирование\n",
        "Как и во многих языках программирования, в Python имеется возможность определять классы, которые содержат данные и функции для работы с ними. Мы иногда\n",
        "будем ими пользоваться, делая код чище и проще. Наверное, самый простой способ\n",
        "объяснить, как они работают, - привести пример с подробным аннотированием.\n",
        "Здесь мы построим класс, который описывает работу \"счетчика нажатий\", используемого в дверях для отслеживания количества людей, приходящих на собрания\n",
        "профессионалов \"Продвинутые темы в науке о данных\".\n",
        "Он поддерживает счетчик, может быть нажат, увеличивая количество, позволяет\n",
        "читать количество посредством метода read count и может обнуляться. (В реальной\n",
        "жизни один из них циклически сбрасывается с 9999 до 0000, но мы не будем этим\n",
        "утруждаться.)\n",
        "Для определения класса используется ключевое слово *class* и ГорбатоеИмя:"
      ],
      "metadata": {
        "id": "zVqv8E91A1Ig"
      }
    },
    {
      "cell_type": "code",
      "source": [
        "class CountingClicker:\n",
        "  \"\"\"\n",
        "  Класс может/должен иметь документирующее\n",
        "  строковое значение docstring, как функцию\n",
        "  \"\"\"\n",
        "  def __init__ (self, count=0):\n",
        "    self.count = count"
      ],
      "metadata": {
        "id": "yllPoGHIBDdg"
      },
      "execution_count": 94,
      "outputs": []
    },
    {
      "cell_type": "markdown",
      "source": [
        "Обратите внимание, что имя метода\n",
        "\n",
        "``` python\n",
        "__init__\n",
        "```\n",
        "\n",
        " начинается и заканчивается двойным\n",
        "подчеркиванием. Такие \"магические\" методы иногда называются \"дандерными\"\n",
        "методами от англ. doubleUNDERscore и реализуют \"особые\" линии поведения."
      ],
      "metadata": {
        "id": "BRm49TpPBcCX"
      }
    },
    {
      "cell_type": "markdown",
      "source": [
        "Еще одним таким методом является метод\n",
        "\n",
        "``` python\n",
        "__repr__\n",
        "```\n",
        "\n",
        ", который создает строковое\n",
        "представление экземпляра класса:"
      ],
      "metadata": {
        "id": "iWQrO6w4Bx73"
      }
    },
    {
      "cell_type": "code",
      "source": [
        "class CountingClicker:\n",
        "  \"\"\"\n",
        "  Класс может/должен иметь документирующее\n",
        "  строковое значение docstring, как функцию\n",
        "  \"\"\"\n",
        "\n",
        "\n",
        "  def __init__ (self, count=0):\n",
        "    self.count = count\n",
        "\n",
        "\n",
        "  def __repr__(self):\n",
        "    return f\"CountingClicker(count={self.count})\""
      ],
      "metadata": {
        "id": "QXUxY6GWAqQv"
      },
      "execution_count": null,
      "outputs": []
    },
    {
      "cell_type": "markdown",
      "source": [
        "И наконец, нам нужно имплементировать публичный API нашего класса:"
      ],
      "metadata": {
        "id": "VqVxQ_mkCHSg"
      }
    },
    {
      "cell_type": "code",
      "source": [
        "class CountingClicker:\n",
        "  \"\"\"\n",
        "  Класс может/должен иметь документирующее\n",
        "  строковое значение docstring, как функцию\n",
        "  \"\"\"\n",
        "\n",
        "\n",
        "  def __init__ (self, count=0):\n",
        "    self.count = count\n",
        "\n",
        "\n",
        "  def __repr__(self):\n",
        "    return f\"CountingClicker(count={self.count})\"\n",
        "\n",
        "\n",
        "  def click(self, num_times=1):\n",
        "    \"\"\"Кликнуть на кликере несколько раз.\"\"\"\n",
        "    self.count += num_times\n",
        "\n",
        "\n",
        "  def read(self) :\n",
        "    return self.count\n",
        "\n",
        "\n",
        "  def reset(self):\n",
        "    self.count = 0"
      ],
      "metadata": {
        "id": "DR_js25cCHvf"
      },
      "execution_count": 96,
      "outputs": []
    },
    {
      "cell_type": "markdown",
      "source": [
        "Определив его, давайте применим инструкцию assert для написания нескольких\n",
        "тестовых случаев для нашего счетчика нажатий:"
      ],
      "metadata": {
        "id": "kBZd5C-3CZ5v"
      }
    },
    {
      "cell_type": "code",
      "source": [
        "clicker = CountingClicker()\n",
        "assert clicker.read() == 0, \"счетчик должен начинаться со значения 0\"\n",
        "clicker.click()\n",
        "clicker.click()\n",
        "assert clicker.read() == 2, \"после двух нажатий счетчик должен иметь значение 2\"\n",
        "clicker.reset()\n",
        "assert clicker.read() == 0, \"после сброса счетчик должен вернуться к 0\""
      ],
      "metadata": {
        "id": "SaW24Y6RCcJX"
      },
      "execution_count": 97,
      "outputs": []
    },
    {
      "cell_type": "markdown",
      "source": [
        "Мы также иногда создаем подклассы, которые наследуют некоторый свой функционал от родительского класса. Например, мы могли бы создать счетчик нажатий\n",
        "без сброса, используя класс CountingClicker в качестве базового класса и переопределив метод reset, который ничего не делает:"
      ],
      "metadata": {
        "id": "8w9C_3WoCzC7"
      }
    },
    {
      "cell_type": "code",
      "source": [
        "# Подкласс наследует все поведение от своего родительского класса.\n",
        "class NoResetClicker(CountingClicker):\n",
        "  # Этот класс имеет все те же самые методы, что и у CountingClicker\n",
        "  # За исключением того, что его метод сброса reset ничего не делает.\n",
        "  def reset(self):\n",
        "    pass\n",
        "\n",
        "clicker2 = NoResetClicker()\n",
        "assert clicker2.read()==0\n",
        "clicker2.click()\n",
        "assert clicker2.read()==1\n",
        "clicker2.reset()\n",
        "assert clicker2.read()==1"
      ],
      "metadata": {
        "id": "3byrzV83CzfA"
      },
      "execution_count": 98,
      "outputs": []
    },
    {
      "cell_type": "markdown",
      "source": [
        "## Итерируемые объекты и генераторы\n",
        "Прелесть списка в том, что из него можно извлекать конкретные элементы по их\n",
        "индексам. Но это не всегда требуется. Список из миллиарда чисел занимает много\n",
        "памяти. Если вам нужны элементы по одному за раз, то нет никакой причины\n",
        "держать их все под рукой. Если же в итоге вам требуются лишь первые несколько\n",
        "элементов, то генерирование всего миллиарда будет изрядной тратой ресрусов\n",
        "впустую.\n",
        "Часто нам необходимо перебрать всю коллекцию, используя лишь инструкцию for\n",
        "или оператор in. В таких случаях мы можем создавать генераторы, которые можно\n",
        "итеративно перебирать точно так же, как списки, но при этом лениво генерировать\n",
        "их значения по требованию.\n",
        "Один из способов создания генераторов заключается в использовании функций\n",
        "и инструкции yield:"
      ],
      "metadata": {
        "id": "LVAO_owmDHiI"
      }
    },
    {
      "cell_type": "code",
      "source": [
        "def generate_range(n):\n",
        "  i = 0\n",
        "  while i < n:\n",
        "    yield i # Каждый вызов инструкции yield\n",
        "    i += 1 # производит значение генератора\n"
      ],
      "metadata": {
        "id": "3q7GXsARDJRH"
      },
      "execution_count": 99,
      "outputs": []
    },
    {
      "cell_type": "markdown",
      "source": [
        "Приведенный ниже цикл будет потреблять предоставляемые инструкцией yield\n",
        "значения по одному за раз до тех пор, пока элементы не закончатся:"
      ],
      "metadata": {
        "id": "Nbw2a4_NDZzn"
      }
    },
    {
      "cell_type": "code",
      "source": [
        "for i in generate_range(10):\n",
        "  print(f\"i: {i}\")"
      ],
      "metadata": {
        "colab": {
          "base_uri": "https://localhost:8080/"
        },
        "id": "DvWbMtM3DaYJ",
        "outputId": "f0aa4f68-ae04-415b-a5e3-e1d7168bde49"
      },
      "execution_count": 101,
      "outputs": [
        {
          "output_type": "stream",
          "name": "stdout",
          "text": [
            "i: 0\n",
            "i: 1\n",
            "i: 2\n",
            "i: 3\n",
            "i: 4\n",
            "i: 5\n",
            "i: 6\n",
            "i: 7\n",
            "i: 8\n",
            "i: 9\n"
          ]
        }
      ]
    },
    {
      "cell_type": "markdown",
      "source": [
        "Второй способ создания генераторов - использовать операции включения с инструкцией for, обернутые в круглые скобки:"
      ],
      "metadata": {
        "id": "LxmXMQ2cDlP4"
      }
    },
    {
      "cell_type": "code",
      "source": [
        "evens_below_20 = (i for i in generate_range(20) if i % 2 == 0)"
      ],
      "metadata": {
        "id": "y1jB7by1Dl-v"
      },
      "execution_count": 102,
      "outputs": []
    },
    {
      "cell_type": "markdown",
      "source": [
        "При таком включении генератор не выполняет никакой работы до тех пор, пока вы\n",
        "не выполните его обход (с использованием инструкции for или next)."
      ],
      "metadata": {
        "id": "yRNd-kv4DqCX"
      }
    },
    {
      "cell_type": "markdown",
      "source": [
        "## Случайность\n",
        "\n",
        "По мере изучения науки о данных перед нами часто возникает необходимость\n",
        "генерировать случайные числа. Для этого предназначен модуль random:"
      ],
      "metadata": {
        "id": "wO1YsPiED3J3"
      }
    },
    {
      "cell_type": "code",
      "source": [
        "import random\n",
        "random.seed(10) # Этим обеспечивается, что всякий раз\n",
        "# мы получаем одинаковые результаты\n",
        "# Четыре равномерные случайные величины\n",
        "[random.random() for i in range(4)]"
      ],
      "metadata": {
        "colab": {
          "base_uri": "https://localhost:8080/"
        },
        "id": "wPNlGg8zDr1P",
        "outputId": "87aac1a4-e290-4b9f-fdb5-030832357ba0"
      },
      "execution_count": 103,
      "outputs": [
        {
          "output_type": "execute_result",
          "data": {
            "text/plain": [
              "[0.5714025946899135,\n",
              " 0.4288890546751146,\n",
              " 0.5780913011344704,\n",
              " 0.20609823213950174]"
            ]
          },
          "metadata": {},
          "execution_count": 103
        }
      ]
    },
    {
      "cell_type": "markdown",
      "source": [
        "К модулю random есть документация, а также хороший аналог в виде numpy random. Для истинных искателей приключений оставляю ссылки\n",
        "\n",
        "https://docs.python.org/3/library/random.html\n",
        "\n",
        "https://indianaiproduction.com/numpy-random/#:~:text=NumPy%20random%20is%20a%20module,if%20you%20will%20give%20shape"
      ],
      "metadata": {
        "id": "QECHD84BIKVx"
      }
    },
    {
      "cell_type": "markdown",
      "source": [
        "## Регулярные выражения\n",
        "Довольно полезная тема, оставляю ссылку на исчерпывающее и понятное руководство\n",
        "\n",
        "https://habr.com/ru/articles/349860/"
      ],
      "metadata": {
        "id": "MSUbfosNIiGF"
      }
    },
    {
      "cell_type": "markdown",
      "source": [
        "## Функциональное программирование\n",
        "Автор заявляет, методов filter, map, reduce, partial нужно избегать, ведь можно воспользоваться включениями в список, но на деле аналоги map, filter и других функций в библиотеке pandas позволяют работать быстро и эффективно с сотнями тысяч строк данных."
      ],
      "metadata": {
        "id": "eYrVKhVzI2yl"
      }
    },
    {
      "cell_type": "markdown",
      "source": [
        "## Функция zip и распаковка аргументов\n",
        "\n",
        "Часто возникает необходимость объединить два или более списков в один. Встроенная функция zip преобразовывает многочисленные итерируемые объекты в единый итерируемый объект кортежей, состоящий из соответствующих элементов:"
      ],
      "metadata": {
        "id": "S73xAPk8JpXF"
      }
    },
    {
      "cell_type": "code",
      "source": [
        "list1 = ['а', 'b', 'с']\n",
        "list2 = [1, 2, 3]\n",
        "\n",
        "# Функция zip является ленивой,\n",
        "# поэтому следует сделать что-то вроде этого\n",
        "[pair for pair in zip(list1, list2)]"
      ],
      "metadata": {
        "colab": {
          "base_uri": "https://localhost:8080/"
        },
        "id": "LNQkBc9wI2Vf",
        "outputId": "48c3d9a7-f95b-4d99-c37c-70e74239b38a"
      },
      "execution_count": 104,
      "outputs": [
        {
          "output_type": "execute_result",
          "data": {
            "text/plain": [
              "[('а', 1), ('b', 2), ('с', 3)]"
            ]
          },
          "metadata": {},
          "execution_count": 104
        }
      ]
    },
    {
      "cell_type": "code",
      "source": [
        "pairs = [('а', 1), ('b', 2), ('с', 3)]\n",
        "list(zip(*pairs))"
      ],
      "metadata": {
        "colab": {
          "base_uri": "https://localhost:8080/"
        },
        "id": "2yfJ2PN-KEth",
        "outputId": "f56ae805-961b-463a-e090-5185cfac1389"
      },
      "execution_count": 106,
      "outputs": [
        {
          "output_type": "execute_result",
          "data": {
            "text/plain": [
              "[('а', 'b', 'с'), (1, 2, 3)]"
            ]
          },
          "metadata": {},
          "execution_count": 106
        }
      ]
    },
    {
      "cell_type": "markdown",
      "source": [
        "## Переменные args и kwargs\n",
        "\n",
        "Предположим, нужно создать функцию высшего порядка, которая в качестве входа\n",
        "принимает некую функцию f и возвращает новую функцию, которая для любого\n",
        "входа возвращает удвоенное значение f:"
      ],
      "metadata": {
        "id": "suMfwLVRLMlI"
      }
    },
    {
      "cell_type": "code",
      "source": [
        "# Удвоитель\n",
        "def doubler(f):\n",
        "  # Здесь мы определяем новую функцию, которая содержит ссылку на f\n",
        "  def g(x):\n",
        "    return 2 * f(х)\n",
        "  # И возвращаем эту новую функцию\n",
        "  return g"
      ],
      "metadata": {
        "id": "qUgXA2NhLS08"
      },
      "execution_count": 108,
      "outputs": []
    },
    {
      "cell_type": "markdown",
      "source": [
        "Но такой декоратор не может работать с функциями которые принимают больше одного аргумента. В таких случаях в аргументах функции принято писать:"
      ],
      "metadata": {
        "id": "W_kRq-0vMKLd"
      }
    },
    {
      "cell_type": "code",
      "source": [
        "def magic(*args, **kwargs):\n",
        "  print(\"Безымянные аргументы:\", args)\n",
        "  print(\"Аргументы по ключу:\", kwargs)"
      ],
      "metadata": {
        "id": "gJD2We2BMZ1F"
      },
      "execution_count": 110,
      "outputs": []
    },
    {
      "cell_type": "code",
      "source": [
        "def doubler_correct(f):\n",
        "  \"\"\"Работает независимо от того, какого рода аргументы\n",
        "  функция f ожидает\"\"\"\n",
        "  def g(*args, **kwargs):\n",
        "    \"\"\"Какими бы ни были аргументы для g, передать их прямиком в f\"\"\"\n",
        "    return 2 * f(*args, **kwargs)\n",
        "  return g\n",
        "\n",
        "\n",
        "@doubler_correct\n",
        "def f2 (х, у):\n",
        "  return х + у\n",
        "\n",
        "assert f2(1,2)==6, 'Все сработало'"
      ],
      "metadata": {
        "id": "pkGt6DEpMx-c"
      },
      "execution_count": 111,
      "outputs": []
    },
    {
      "cell_type": "markdown",
      "source": [
        "## Аннотации типов\n",
        "Python - это динамически типизированный язык. Это означает, что он вообще не\n",
        "заботится о типах объектов, которые мы используем, при условии, что мы применяем их приемлемыми способами:"
      ],
      "metadata": {
        "id": "KiPTkbJ7OOmA"
      }
    },
    {
      "cell_type": "code",
      "source": [
        "def add(а, b) :\n",
        "  return а + b\n",
        "assert add(10, 5) == 15, \"+ является допустимым для чисел\"\n",
        "assert add([1, 2], [3]) == [1, 2, 3] , \"+ является допустимым для списков\"\n",
        "assert add(\"Эй, \", \"привет!\") == \"Эй, привет!\", \"+ является допустимым для строк\"\n",
        "try:\n",
        "  add(10, \"пять\")\n",
        "except TypeError:\n",
        "  print(\"Невозможно прибавить целое число к строке\")"
      ],
      "metadata": {
        "colab": {
          "base_uri": "https://localhost:8080/"
        },
        "id": "Qg3NAGqWORn2",
        "outputId": "a7ed6f59-1f0c-4791-8d38-3a9024c6ea8b"
      },
      "execution_count": 113,
      "outputs": [
        {
          "output_type": "stream",
          "name": "stdout",
          "text": [
            "Невозможно прибавить целое число к строке\n"
          ]
        }
      ]
    },
    {
      "cell_type": "markdown",
      "source": [
        "тогда как в статически типизированном языке наши функции и объекты имели бы\n",
        "конкретные типы:"
      ],
      "metadata": {
        "id": "0unqlC0dO2v8"
      }
    },
    {
      "cell_type": "code",
      "source": [
        "def add(a: int, b: int) -> int:\n",
        "  return a + b\n",
        "add(10, 5) # Вы хотели бы, чтобы это работало\n",
        "add(\"Эй, \", \"там\") # Вы хотели бы, чтобы это не работало"
      ],
      "metadata": {
        "colab": {
          "base_uri": "https://localhost:8080/",
          "height": 35
        },
        "id": "FVMx0bqvO3N1",
        "outputId": "a14ade62-16bd-49dd-c6dd-43a2fe25e0bf"
      },
      "execution_count": 114,
      "outputs": [
        {
          "output_type": "execute_result",
          "data": {
            "text/plain": [
              "'Эй, там'"
            ],
            "application/vnd.google.colaboratory.intrinsic+json": {
              "type": "string"
            }
          },
          "metadata": {},
          "execution_count": 114
        }
      ]
    },
    {
      "cell_type": "markdown",
      "source": [
        "Аннотация типов не влияет на исполнение кода, но интерпретатор или тот кто ревьювит ваш код могут заметить ошибки и следовательно, оправдать использование аннотации типов. Поэтому автор рекомендует её к использованию.\n"
      ],
      "metadata": {
        "id": "F0j_qP13PLtT"
      }
    },
    {
      "cell_type": "markdown",
      "source": [
        "## Как писать аннотации типов\n",
        "Как мы видели, для встроенных типов, таких как int, bool и float, вы просто используете сам тип в качестве аннотации. Что, если у вас был (скажем) список?"
      ],
      "metadata": {
        "id": "pJDbQqkzPZXE"
      }
    },
    {
      "cell_type": "code",
      "source": [
        "def total(xs: list) -> float:\n",
        "  return sum(xs)"
      ],
      "metadata": {
        "id": "F57oDYL8Pci8"
      },
      "execution_count": 115,
      "outputs": []
    },
    {
      "cell_type": "markdown",
      "source": [
        "Раз уж мы добавляем расширенную аннотацию типов, то было бы полезно знать, какие типы значений хранятся внутри списка. Для этого подключим библиотеку typing."
      ],
      "metadata": {
        "id": "Hm_gmZJXPpac"
      }
    },
    {
      "cell_type": "code",
      "source": [
        "from typing import List # Обратите внимание на заглавную 1\n",
        "def total(xs: List[float]) -> float:\n",
        "  return sum(xs)"
      ],
      "metadata": {
        "id": "vK7VCsNhP0zD"
      },
      "execution_count": 116,
      "outputs": []
    },
    {
      "cell_type": "markdown",
      "source": [
        "Есть также отдельные типы для Dict, Iterable, Tuple и Callable (функции)\n",
        "\n",
        "Для Callable аннотация пишется так: Callable[[arg_type1, arg_type2],return_type]"
      ],
      "metadata": {
        "id": "dC4f-W_DQOZT"
      }
    },
    {
      "cell_type": "markdown",
      "source": [
        "Поскольку аннотации типов - это просто объекты Python, мы можем их назначать\n",
        "переменным для упрощения ссылки на них:"
      ],
      "metadata": {
        "id": "u3kBrEcFQuGB"
      }
    },
    {
      "cell_type": "code",
      "source": [
        "Number = int\n",
        "Numbers = List[Number]\n",
        "def total(xs: Numbers) -> Number:\n",
        "  return sum(xs)"
      ],
      "metadata": {
        "id": "Jojiqjw1Qt20"
      },
      "execution_count": 117,
      "outputs": []
    },
    {
      "cell_type": "markdown",
      "source": [
        "# Добро пожаловать в DataSciencester!\n",
        "\n",
        "Спасибо за прохождение вводного ноутбука! Надеюсь те, кому нужно выучат, кому нужно вспомнят. В следующих частях будет немного конспекта и больше места для написания кода."
      ],
      "metadata": {
        "id": "yEjNTTmeQ4dL"
      }
    }
  ]
}