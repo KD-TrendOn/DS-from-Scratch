{
  "nbformat": 4,
  "nbformat_minor": 0,
  "metadata": {
    "colab": {
      "provenance": []
    },
    "kernelspec": {
      "name": "python3",
      "display_name": "Python 3"
    },
    "language_info": {
      "name": "python"
    }
  },
  "cells": [
    {
      "cell_type": "markdown",
      "source": [
        "# Статистика\n",
        "Теперь мы приступаем к пятой главе книги и для меня она является очень интересной, на втором месте после главы про теорию вероятности. Сегодня нам предстоит реализовать несколько статистических инструментов. Также начиная с этой главы мы будем использовать наши наработки из прошлых глав.\n",
        "Импортируем файл с функциями линейной алгебры."
      ],
      "metadata": {
        "id": "wkdK1-lGtBYA"
      }
    },
    {
      "cell_type": "code",
      "execution_count": 1,
      "metadata": {
        "colab": {
          "base_uri": "https://localhost:8080/"
        },
        "id": "BE3_XgvrClvy",
        "outputId": "24bbc7cc-a577-4af5-e620-840ab011281e"
      },
      "outputs": [
        {
          "output_type": "stream",
          "name": "stdout",
          "text": [
            "--2024-01-04 22:46:39--  https://raw.githubusercontent.com/joelgrus/data-science-from-scratch/master/scratch/linear_algebra.py\n",
            "Resolving raw.githubusercontent.com (raw.githubusercontent.com)... 185.199.108.133, 185.199.109.133, 185.199.110.133, ...\n",
            "Connecting to raw.githubusercontent.com (raw.githubusercontent.com)|185.199.108.133|:443... connected.\n",
            "HTTP request sent, awaiting response... 200 OK\n",
            "Length: 5566 (5.4K) [text/plain]\n",
            "Saving to: ‘linear_algebra.py’\n",
            "\n",
            "\rlinear_algebra.py     0%[                    ]       0  --.-KB/s               \rlinear_algebra.py   100%[===================>]   5.44K  --.-KB/s    in 0s      \n",
            "\n",
            "2024-01-04 22:46:39 (26.1 MB/s) - ‘linear_algebra.py’ saved [5566/5566]\n",
            "\n"
          ]
        }
      ],
      "source": [
        "!wget https://raw.githubusercontent.com/joelgrus/data-science-from-scratch/master/scratch/linear_algebra.py"
      ]
    },
    {
      "cell_type": "markdown",
      "source": [
        "Приступим к изучению инструментов статистики. В книге вы можете прочитать полные пояснения к методам."
      ],
      "metadata": {
        "id": "2wFyjk6w_2zx"
      }
    },
    {
      "cell_type": "code",
      "source": [
        "from collections import Counter\n",
        "import matplotlib.pyplot as plt\n",
        "# from linear_algebra import *"
      ],
      "metadata": {
        "id": "ZBwGFUEO_-di"
      },
      "execution_count": 2,
      "outputs": []
    },
    {
      "cell_type": "code",
      "source": [
        "num_friends = [100.0,49,41,40,25,21,21,19,19,18,18,16,15,15,15,15,14,14,13,13,13,13,12,12,11,10,10,10,10,10,10,10,10,10,10,10,10,10,10,10,9,9,9,9,9,9,9,9,9,9,9,9,9,9,9,9,9,9,8,8,8,8,8,8,8,8,8,8,8,8,8,7,7,7,7,7,7,7,7,7,7,7,7,7,7,7,6,6,6,6,6,6,6,6,6,6,6,6,6,6,6,6,6,6,6,6,6,6,5,5,5,5,5,5,5,5,5,5,5,5,5,5,5,5,5,4,4,4,4,4,4,4,4,4,4,4,4,4,4,4,4,4,4,4,4,3,3,3,3,3,3,3,3,3,3,3,3,3,3,3,3,3,3,3,3,2,2,2,2,2,2,2,2,2,2,2,2,2,2,2,2,2,1,1,1,1,1,1,1,1,1,1,1,1,1,1,1,1,1,1,1,1,1,1]\n",
        "friend_counts = Counter(num_friends)\n",
        "xs = range(101)                         # largest value is 100\n",
        "ys = [friend_counts[x] for x in xs]     # height is just # of friends\n",
        "plt.bar(xs, ys)\n",
        "plt.axis([0, 101, 0, 25])\n",
        "plt.title(\"Histogram of Friend Counts\")\n",
        "plt.xlabel(\"# of friends\")\n",
        "plt.ylabel(\"# of people\")\n",
        "# plt.show()"
      ],
      "metadata": {
        "colab": {
          "base_uri": "https://localhost:8080/",
          "height": 489
        },
        "id": "xytTLvS8BUzI",
        "outputId": "67301916-475d-45cb-ae67-7c2c58913723"
      },
      "execution_count": 3,
      "outputs": [
        {
          "output_type": "execute_result",
          "data": {
            "text/plain": [
              "Text(0, 0.5, '# of people')"
            ]
          },
          "metadata": {},
          "execution_count": 3
        },
        {
          "output_type": "display_data",
          "data": {
            "text/plain": [
              "<Figure size 640x480 with 1 Axes>"
            ],
            "image/png": "[encoded data removed]"
          },
          "metadata": {}
        }
      ]
    },
    {
      "cell_type": "code",
      "source": [
        "num_points = len(num_friends)"
      ],
      "metadata": {
        "id": "BrCA1SrZCJ4p"
      },
      "execution_count": 4,
      "outputs": []
    },
    {
      "cell_type": "markdown",
      "source": [
        "Максимум и минимум"
      ],
      "metadata": {
        "id": "oeWquadNCNfg"
      }
    },
    {
      "cell_type": "code",
      "source": [
        "largest_value = max(num_friends)\n",
        "smallest_value = min(num_friends)\n",
        "largest_value, smallest_value"
      ],
      "metadata": {
        "colab": {
          "base_uri": "https://localhost:8080/"
        },
        "id": "Ya6xVdirCQjg",
        "outputId": "3cba3006-bf29-4d78-dd07-4cff1cd85012"
      },
      "execution_count": 5,
      "outputs": [
        {
          "output_type": "execute_result",
          "data": {
            "text/plain": [
              "(100.0, 1)"
            ]
          },
          "metadata": {},
          "execution_count": 5
        }
      ]
    },
    {
      "cell_type": "markdown",
      "source": [
        "Отсортируем выборку и посчитаем следующий максимум и минимум"
      ],
      "metadata": {
        "id": "jcvKBmPiCjSA"
      }
    },
    {
      "cell_type": "code",
      "source": [
        "sorted_values = sorted(num_friends)\n",
        "smallest_value = sorted_values[0]\n",
        "second_smallest_value = sorted_values[1]\n",
        "second_largest_value = sorted_values[-2]\n",
        "smallest_value, second_smallest_value, second_largest_value\n"
      ],
      "metadata": {
        "colab": {
          "base_uri": "https://localhost:8080/"
        },
        "id": "hB69tywPCqdo",
        "outputId": "ec162459-c386-4ae3-deee-2fd7361a2600"
      },
      "execution_count": 6,
      "outputs": [
        {
          "output_type": "execute_result",
          "data": {
            "text/plain": [
              "(1, 1, 49)"
            ]
          },
          "metadata": {},
          "execution_count": 6
        }
      ]
    },
    {
      "cell_type": "markdown",
      "source": [
        "Введем понятие среднего выборки"
      ],
      "metadata": {
        "id": "WHS4nvbHC2PH"
      }
    },
    {
      "cell_type": "code",
      "source": [
        "from typing import List\n",
        "def mean(xs: List[float]) -> float:\n",
        "    return sum(xs) / len(xs)"
      ],
      "metadata": {
        "id": "Lt1wC_6MC1cf"
      },
      "execution_count": 26,
      "outputs": []
    },
    {
      "cell_type": "code",
      "source": [
        "mean(num_friends)"
      ],
      "metadata": {
        "colab": {
          "base_uri": "https://localhost:8080/"
        },
        "id": "OHQIwP3GWRZv",
        "outputId": "146543f4-a057-426e-93ca-7a6a8c4bfae3"
      },
      "execution_count": 8,
      "outputs": [
        {
          "output_type": "execute_result",
          "data": {
            "text/plain": [
              "7.333333333333333"
            ]
          },
          "metadata": {},
          "execution_count": 8
        }
      ]
    },
    {
      "cell_type": "markdown",
      "source": [
        "Теперь вспомним определение медианы"
      ],
      "metadata": {
        "id": "OaXB3LgMWaFP"
      }
    },
    {
      "cell_type": "code",
      "source": [
        "def _median_odd(xs: List[float]) -> float:\n",
        "    \"\"\"If len(xs) is odd, the median is the middle element\"\"\"\n",
        "    return sorted(xs)[len(xs) // 2]"
      ],
      "metadata": {
        "id": "IFjdiy-LWfBH"
      },
      "execution_count": 9,
      "outputs": []
    },
    {
      "cell_type": "code",
      "source": [
        "def _median_even(xs: List[float]) -> float:\n",
        "    \"\"\"If len(xs) is even, it's the average of the middle two elements\"\"\"\n",
        "    sorted_xs = sorted(xs)\n",
        "    hi_midpoint = len(xs) // 2  # e.g. length 4 => hi_midpoint 2\n",
        "    return (sorted_xs[hi_midpoint - 1] + sorted_xs[hi_midpoint]) / 2"
      ],
      "metadata": {
        "id": "J6J4WlgcWgkf"
      },
      "execution_count": 10,
      "outputs": []
    },
    {
      "cell_type": "code",
      "source": [
        "def median(v: List[float]) -> float:\n",
        "    \"\"\"Finds the 'middle-most' value of v\"\"\"\n",
        "    return _median_even(v) if len(v) % 2 == 0 else _median_odd(v)"
      ],
      "metadata": {
        "id": "bdgnKrGCWkiP"
      },
      "execution_count": 11,
      "outputs": []
    },
    {
      "cell_type": "code",
      "source": [
        "assert median([1, 10, 2, 9, 5]) == 5\n",
        "assert median([1, 9, 2, 10]) == (2 + 9) / 2"
      ],
      "metadata": {
        "id": "DM7THXJWWraX"
      },
      "execution_count": 12,
      "outputs": []
    },
    {
      "cell_type": "markdown",
      "source": [
        "Медианой можно называть 50-ый перцентиль. Создадим функцию для неопределенного перцентиля.\n"
      ],
      "metadata": {
        "id": "M0x8leG_q-6I"
      }
    },
    {
      "cell_type": "code",
      "source": [
        "def quantile(xs: List[float], p: float) -> float:\n",
        "    \"\"\"Returns the pth-percentile value in x\"\"\"\n",
        "    p_index = int(p * len(xs))\n",
        "    return sorted(xs)[p_index]"
      ],
      "metadata": {
        "id": "ZOu4Wm-ZrOrF"
      },
      "execution_count": 13,
      "outputs": []
    },
    {
      "cell_type": "markdown",
      "source": [
        "В статистике есть понятие моды. Это лидеры по повторениям в выборке"
      ],
      "metadata": {
        "id": "rZa0mvPhrSdI"
      }
    },
    {
      "cell_type": "code",
      "source": [
        "def mode(x: List[float]) -> List[float]:\n",
        "    \"\"\"Returns a list, since there might be more than one mode\"\"\"\n",
        "    counts = Counter(x)\n",
        "    max_count = max(counts.values())\n",
        "    return [x_i for x_i, count in counts.items()\n",
        "            if count == max_count]"
      ],
      "metadata": {
        "id": "iZM9tUHirRdF"
      },
      "execution_count": 14,
      "outputs": []
    },
    {
      "cell_type": "markdown",
      "source": [
        "Размах выборки - разность между максимумом и минимумом."
      ],
      "metadata": {
        "id": "DYra2KXSri3B"
      }
    },
    {
      "cell_type": "code",
      "source": [
        "def data_range(xs: List[float]) -> float:\n",
        "    return max(xs) - min(xs)"
      ],
      "metadata": {
        "id": "6zH2jEdcroAA"
      },
      "execution_count": 15,
      "outputs": []
    },
    {
      "cell_type": "markdown",
      "source": [
        "Вариация (как приблизительно среднеквадратичное отклонение от среднего) определяется формулой\n",
        "$\\frac{Σ_{i=0}^{n}\\left(x_i-\\bar{x} \\right)^{2}}{n-1}$"
      ],
      "metadata": {
        "id": "isoLBWeprqOe"
      }
    },
    {
      "cell_type": "markdown",
      "source": [
        "Для суммы квадратов используем функцию из предыдущего модуля"
      ],
      "metadata": {
        "id": "N-U6qs8sv53u"
      }
    },
    {
      "cell_type": "code",
      "source": [
        "from linear_algebra import sum_of_squares\n",
        "\n",
        "\n",
        "def de_mean(xs: List[float]) -> List[float]:\n",
        "    \"\"\"Translate xs by subtracting its mean (so the result has mean 0)\"\"\"\n",
        "    x_bar = mean(xs)\n",
        "    return [x - x_bar for x in xs]\n",
        "\n",
        "\n",
        "def variance(xs: List[float]) -> float:\n",
        "    \"\"\"Almost the average squared deviation from the mean\"\"\"\n",
        "    assert len(xs) >= 2, \"variance requires at least two elements\"\n",
        "\n",
        "    n = len(xs)\n",
        "    deviations = de_mean(xs)\n",
        "    return sum_of_squares(deviations) / (n - 1)"
      ],
      "metadata": {
        "id": "6wVvrwWEv3pm"
      },
      "execution_count": 16,
      "outputs": []
    },
    {
      "cell_type": "markdown",
      "source": [
        "Среднеквадратичное отклонение или стандартное отклонение выборки - это корень из вариации"
      ],
      "metadata": {
        "id": "pC5ZYNpswex9"
      }
    },
    {
      "cell_type": "code",
      "source": [
        "import math\n",
        "\n",
        "def standard_deviation(xs: List[float]) -> float:\n",
        "    \"\"\"The standard deviation is the square root of the variance\"\"\"\n",
        "    return math.sqrt(variance(xs))"
      ],
      "metadata": {
        "id": "iB-oGa1AwouX"
      },
      "execution_count": 17,
      "outputs": []
    },
    {
      "cell_type": "markdown",
      "source": [
        "Хорошим и устойчивым к выбросам инструментом будет интерквантильный размах между 25-ым и 75-ым перцентилями"
      ],
      "metadata": {
        "id": "fdwswbnVwru0"
      }
    },
    {
      "cell_type": "code",
      "source": [
        "def interquartile_range(xs: List[float]) -> float:\n",
        "    \"\"\"Returns the difference between the 75%-ile and the 25%-ile\"\"\"\n",
        "    return quantile(xs, 0.75) - quantile(xs, 0.25)"
      ],
      "metadata": {
        "id": "f0eMQn1cw9Ud"
      },
      "execution_count": 18,
      "outputs": []
    },
    {
      "cell_type": "markdown",
      "source": [
        "Теперь перейдем к анализу двух связанных выборок.\n",
        "Ковариация измеряет отклонение двух переменных в тандеме от своих средних:"
      ],
      "metadata": {
        "id": "LrFwuCdJw_jE"
      }
    },
    {
      "cell_type": "code",
      "source": [
        "daily_minutes = [1,68.77,51.25,52.08,38.36,44.54,57.13,51.4,41.42,31.22,34.76,54.01,38.79,47.59,49.1,27.66,41.03,36.73,48.65,28.12,46.62,35.57,32.98,35,26.07,23.77,39.73,40.57,31.65,31.21,36.32,20.45,21.93,26.02,27.34,23.49,46.94,30.5,33.8,24.23,21.4,27.94,32.24,40.57,25.07,19.42,22.39,18.42,46.96,23.72,26.41,26.97,36.76,40.32,35.02,29.47,30.2,31,38.11,38.18,36.31,21.03,30.86,36.07,28.66,29.08,37.28,15.28,24.17,22.31,30.17,25.53,19.85,35.37,44.6,17.23,13.47,26.33,35.02,32.09,24.81,19.33,28.77,24.26,31.98,25.73,24.86,16.28,34.51,15.23,39.72,40.8,26.06,35.76,34.76,16.13,44.04,18.03,19.65,32.62,35.59,39.43,14.18,35.24,40.13,41.82,35.45,36.07,43.67,24.61,20.9,21.9,18.79,27.61,27.21,26.61,29.77,20.59,27.53,13.82,33.2,25,33.1,36.65,18.63,14.87,22.2,36.81,25.53,24.62,26.25,18.21,28.08,19.42,29.79,32.8,35.99,28.32,27.79,35.88,29.06,36.28,14.1,36.63,37.49,26.9,18.58,38.48,24.48,18.95,33.55,14.24,29.04,32.51,25.63,22.22,19,32.73,15.16,13.9,27.2,32.01,29.27,33,13.74,20.42,27.32,18.23,35.35,28.48,9.08,24.62,20.12,35.26,19.92,31.02,16.49,12.16,30.7,31.22,34.65,13.13,27.51,33.2,31.57,14.1,33.42,17.44,10.12,24.42,9.82,23.39,30.93,15.03,21.67,31.09,33.29,22.61,26.89,23.48,8.38,27.81,32.35,23.84]\n",
        "\n",
        "daily_hours = [dm / 60 for dm in daily_minutes]"
      ],
      "metadata": {
        "id": "52xzm77rxUF0"
      },
      "execution_count": 19,
      "outputs": []
    },
    {
      "cell_type": "code",
      "source": [
        "from linear_algebra import dot\n",
        "\n",
        "def covariance(xs: List[float], ys: List[float]) -> float:\n",
        "    assert len(xs) == len(ys), \"xs and ys must have same number of elements\"\n",
        "\n",
        "    return dot(de_mean(xs), de_mean(ys)) / (len(xs) - 1)\n"
      ],
      "metadata": {
        "id": "-SQBB6YFxWJM"
      },
      "execution_count": 21,
      "outputs": []
    },
    {
      "cell_type": "markdown",
      "source": [
        "Всем известная корреляция - более удобная характеристика выборок, в нужных единицах. Представляет из себя ковариацию разделенную на стандартные отклонения выборок.\n",
        "Варьируется от -1 до 1, где -1 - знак противоположного направления роста, 0 - отсутствие линейной зависимости и 1 - наличие прямой линейной зависимости."
      ],
      "metadata": {
        "id": "HYQV2FyFxfPP"
      }
    },
    {
      "cell_type": "code",
      "source": [
        "def correlation(xs: List[float], ys: List[float]) -> float:\n",
        "    \"\"\"Measures how much xs and ys vary in tandem about their means\"\"\"\n",
        "    stdev_x = standard_deviation(xs)\n",
        "    stdev_y = standard_deviation(ys)\n",
        "    if stdev_x > 0 and stdev_y > 0:\n",
        "        return covariance(xs, ys) / stdev_x / stdev_y\n",
        "    else:\n",
        "        return 0    # if no variation, correlation is zero\n"
      ],
      "metadata": {
        "id": "AdNAWx-_xZrU"
      },
      "execution_count": 22,
      "outputs": []
    },
    {
      "cell_type": "code",
      "source": [
        "outlier = num_friends.index(100)    # index of outlier\n",
        "\n",
        "num_friends_good = [x\n",
        "                    for i, x in enumerate(num_friends)\n",
        "                    if i != outlier]\n",
        "\n",
        "daily_minutes_good = [x\n",
        "                      for i, x in enumerate(daily_minutes)\n",
        "                      if i != outlier]\n",
        "\n",
        "daily_hours_good = [dm / 60 for dm in daily_minutes_good]"
      ],
      "metadata": {
        "id": "hjn-V4LVypZU"
      },
      "execution_count": 23,
      "outputs": []
    },
    {
      "cell_type": "code",
      "source": [
        "assert 0.57 < correlation(num_friends_good, daily_minutes_good) < 0.58\n",
        "assert 0.57 < correlation(num_friends_good, daily_hours_good) < 0.58"
      ],
      "metadata": {
        "id": "eI3kUDlUysoc"
      },
      "execution_count": 24,
      "outputs": []
    },
    {
      "cell_type": "markdown",
      "source": [
        "# Задание\n",
        "Вам будет дана выборка данных. Ваша задача произвести очистку выборки - удалить все данные лежащие выше 98го перцентиля и ниже 2-го. Потом посчитайте среднее получившейся выборки и её стандартное отклонение.\n",
        " Cреднее и стд возвращайте в кортеже в return вашей функции clear_that."
      ],
      "metadata": {
        "id": "fhU_ra36yyYj"
      }
    },
    {
      "cell_type": "code",
      "source": [
        "from typing import List, Tuple\n",
        "def clear_that(sample:List[float])->Tuple[List[float], float, float]:\n",
        "  # Ваш код"
      ],
      "metadata": {
        "id": "zROdRRWkGyEN"
      },
      "execution_count": null,
      "outputs": []
    },
    {
      "cell_type": "code",
      "source": [
        "# @title TrendOn solution\n",
        "from typing import List, Tuple\n",
        "def clear_that(sample:List[float])->Tuple[float, float]:\n",
        "  low = int(0.02*len(sample))\n",
        "  high = int(0.98*len(sample))\n",
        "  cleared_sample = sample[low:high+1]\n",
        "  _mean = mean(cleared_sample)\n",
        "  _std = standard_deviation(cleared_sample)\n",
        "  return _mean, _std"
      ],
      "metadata": {
        "cellView": "form",
        "id": "KWTojGGTHo02"
      },
      "execution_count": 34,
      "outputs": []
    },
    {
      "cell_type": "markdown",
      "source": [
        "Самопроверка"
      ],
      "metadata": {
        "id": "Rm2rZeCmOCR-"
      }
    },
    {
      "cell_type": "code",
      "source": [
        "arr = [0.09649500216722826,\n",
        " 1.067719810780088,\n",
        " -0.0909493249583295,\n",
        " 1.51387229418062,\n",
        " 0.668894327489708,\n",
        " -0.8290714873887567,\n",
        " -0.5046454914377212,\n",
        " 0.6502876304103224,\n",
        " 0.45031014531850616,\n",
        " -2.1658860791747347,\n",
        " 0.2571315131450308,\n",
        " -0.9389931830270694,\n",
        " -0.08715698737774415,\n",
        " 1.4948036655385537,\n",
        " -0.4567806766654905,\n",
        " -0.9925346916855489,\n",
        " 1.1390443939883985,\n",
        " 0.31120940273680675,\n",
        " 0.8823380644537197,\n",
        " -1.0571869218916827,\n",
        " 0.2637988781889936,\n",
        " -0.1270045697374429,\n",
        " 0.6487248733554851,\n",
        " -1.7148279572662564,\n",
        " 0.12657613035136706,\n",
        " -0.9631925775206397,\n",
        " 0.20325035333141053,\n",
        " 0.9119807546822384,\n",
        " 0.23156422723449588,\n",
        " 1.0807748888254463,\n",
        " 0.04916680741604905,\n",
        " 0.19370940124019664,\n",
        " -0.4056778497732385,\n",
        " 0.360568029199637,\n",
        " 0.19602771953427098,\n",
        " -0.419897927011502,\n",
        " 1.0219032515476056,\n",
        " 0.18705086844473656,\n",
        " -1.898725774433424,\n",
        " 0.7085211827286247,\n",
        " -0.03349853902899481,\n",
        " 0.0390810916039688,\n",
        " 0.351347353806727,\n",
        " -0.6116396901365189,\n",
        " 0.07630568813636147,\n",
        " -0.7372715942388384,\n",
        " -0.28689563941499113,\n",
        " 0.13460192993970815,\n",
        " 0.9767900712088354,\n",
        " -1.6850524651207113,\n",
        " -0.3194480069646753,\n",
        " -1.0883693918989041,\n",
        " 1.1665228205641198,\n",
        " 0.41579582614449506,\n",
        " -0.7708896611108457,\n",
        " -0.2640632400177076,\n",
        " 1.5638074495397225,\n",
        " 0.4522250933376165,\n",
        " 0.49858941897283554,\n",
        " 0.6604111547542519,\n",
        " 1.8145187148982314,\n",
        " 0.6929900379829026,\n",
        " 0.3587818500815029,\n",
        " -0.49613464184557765,\n",
        " -0.18952602292484771,\n",
        " 0.6770919875636662,\n",
        " -0.09585141739672594,\n",
        " -0.5243867433402161,\n",
        " 1.1220109171963333,\n",
        " -0.27649011047348254,\n",
        " 0.4748934578557452,\n",
        " -0.1637584997795767,\n",
        " 0.9687055817197827,\n",
        " -0.496237070652197,\n",
        " 0.8787330177014483,\n",
        " 0.9333015466341794,\n",
        " 0.3285352658990742,\n",
        " -0.07819791814317051,\n",
        " 1.2003053614888313,\n",
        " 1.7620870439976224,\n",
        " 1.5437994062647382,\n",
        " -0.4333738332216668,\n",
        " 1.6561888636140676,\n",
        " 0.3842659661895033,\n",
        " -1.6844698031686647,\n",
        " 0.4892718604844119,\n",
        " -0.13804140985788874,\n",
        " -1.3765916649339411,\n",
        " 1.4572463116020682,\n",
        " -0.07926611705187503,\n",
        " -1.4145107284518301,\n",
        " -0.4860337803667871,\n",
        " -0.7305962530851616,\n",
        " 1.314805739583678,\n",
        " -1.90418657593995,\n",
        " 0.5913071448888133,\n",
        " -0.4878910661417488,\n",
        " -1.4250753211010265,\n",
        " 0.686658353085256,\n",
        " 1.1644932789852769]"
      ],
      "metadata": {
        "id": "rH91kcWrPX7-"
      },
      "execution_count": 35,
      "outputs": []
    },
    {
      "cell_type": "code",
      "source": [
        "ans = clear_that(arr)\n",
        "assert 0.0854866641743<ans[0]<0.0854866641746\n",
        "assert 0.899969690418<ans[1]<0.899969690421"
      ],
      "metadata": {
        "id": "6RdPSipUOEWT"
      },
      "execution_count": 37,
      "outputs": []
    }
  ]
}